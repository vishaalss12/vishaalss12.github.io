{
  "nbformat": 4,
  "nbformat_minor": 0,
  "metadata": {
    "colab": {
      "provenance": []
    },
    "kernelspec": {
      "name": "python3",
      "display_name": "Python 3"
    },
    "language_info": {
      "name": "python"
    }
  },
  "cells": [
    {
      "cell_type": "markdown",
      "source": [
        "# **What Are The Effects Of Age on COVID-19 Rates ?**\n",
        "#### Fall 2024 Data Science Project\n",
        "#### Vishaal Saravanan, Pacawat Luu, Nobukazu Sawai\n",
        "\n",
        "Contributions:\n",
        "\n",
        "- Vishaal Saravanan, Pacawat Luu, Nobukazu Sawai: Project idea\n",
        "- Pacawat Luu: Dataset Curation and Preprocessing\n",
        "- Vishaal Saravanan, Pacawat Luu, Nobukazu Sawai: Data Exploration and Summary\n",
        "Statistics\n",
        "- Pacawat Luu, Nobukazu Sawai: ML Algorithm Design/Development\n",
        "- Pacawat Luu, Nobukazu Sawai: ML Algorithm Training and Test Data Analysis\n",
        "- Vishaal Saravanan: Visualization, Result Analysis, Conclusion\n",
        "- Vishaal Saravanan: Final Tutorial Report Creation\n",
        "\n",
        "# **1. Introduction**\n",
        "In March of 2019, everything in the world suddenly came to a halt. Schools closed, companies sent employees home, and stores began shutting down. People across the world began falling sick at never before seen rates and what is now know as COVID-19 took control of our lives. Our goal for this Exploratory Analysis is to regain control by understanding the trends and patterns of COVID-19 infection and death rates, so that we can be better equipped to handle unforseeable circumstances. There are three main questions we answer through this tutorial:\n",
        "\n",
        "  1. Which Gender Has Experienced More Deaths As A Result Of Covid-19 ?\n",
        "  \n",
        "  2. How Can Age Play A Factor In The Death Rates Of Covid-19 ?\n",
        "\n",
        "  3. How Prominent Is The Difference In The Likelihood Of Dying From Covid-19 For Students In College ?\n",
        "\n",
        "  4. Given The Amount Of Total Deaths In The United States, How Can We Predict The Number Of Deaths From Covid-19 ?\n",
        "\n",
        "Throughout this tumultuous time of global pandemics, people have wondered how difference characteristics can affect the possibility of dying from Covid-19. It is important to answer these questions to provide people with reassurance and information so that they can feel at peace, or at the very least, be prepared to deal with situations involving Covid-19 in the near future. Whether it be for themselves, family members, or friends, the knowledge gained from this analysis has the potential to save lives.\n",
        "\n",
        "**Note: Each text cell with step explanation refers to code above.**"
      ],
      "metadata": {
        "id": "WHNgHwDeBfrs"
      }
    },
    {
      "cell_type": "markdown",
      "source": [
        "# **2. Data Curation**\n",
        "\n",
        "In this section we will be walking through the preprocessing performed on our dataset to ready the data for our exploration. The dataset was pulled from the CDC website. (see link for more info: https://catalog.data.gov/dataset/provisional-covid-19-deaths-counts-by-age-in-years) The dataset showcases death rates for various age groups from 2020 to 2023."
      ],
      "metadata": {
        "id": "JZrKeTgfLvPv"
      }
    },
    {
      "cell_type": "markdown",
      "source": [
        "Here are links to the documentation for libraries used our exploration:\n",
        "- Pandas Docs: https://pandas.pydata.org/docs/user_guide/index.html\n",
        "- Numpy Docs: https://numpy.org/doc/\n",
        "- Matplotlib Docs: https://matplotlib.org/stable/users/explain/quick_start.html\n",
        "- Seaborn Docs: https://seaborn.pydata.org/tutorial/function_overview.html\n",
        "- Plotly Docs: https://plotly.com/python/plotly-express/\n",
        "- Statsmodels Docs: https://www.statsmodels.org/stable/index.html\n",
        "- Scipy Docs: https://docs.scipy.org/doc/scipy/tutorial/index.html#user-guide\n",
        "- Sci-kit Docs: https://scikit-learn.org/stable/"
      ],
      "metadata": {
        "id": "mYvFXmOBYXaU"
      }
    },
    {
      "cell_type": "code",
      "execution_count": 74,
      "metadata": {
        "id": "s5xjG6PEwyQD"
      },
      "outputs": [],
      "source": [
        "import pandas as pd\n",
        "import numpy as np\n",
        "import matplotlib.pyplot as plt\n",
        "import seaborn as sns\n",
        "import plotly.express as px\n",
        "import scipy.stats as stats\n",
        "from statsmodels.stats.proportion import proportions_ztest\n",
        "from scipy.stats import ttest_ind\n",
        "from sklearn.model_selection import train_test_split\n",
        "from sklearn.linear_model import LinearRegression\n",
        "from sklearn.metrics import mean_squared_error, r2_score\n",
        "from scipy.stats import f_oneway\n",
        "from sklearn.ensemble import RandomForestRegressor"
      ]
    },
    {
      "cell_type": "code",
      "source": [
        "df = pd.read_csv('/content/Provisional_COVID-19_Death_Counts_by_Age_in_Years__2020-2023.csv')\n",
        "\n",
        "df"
      ],
      "metadata": {
        "colab": {
          "base_uri": "https://localhost:8080/",
          "height": 419
        },
        "id": "jXybHXhRyNR4",
        "outputId": "aee94b18-b642-4edf-8233-5cad17544925"
      },
      "execution_count": 75,
      "outputs": [
        {
          "output_type": "execute_result",
          "data": {
            "text/plain": [
              "     Data as of  Start Date    End Date     Sex          Age Years  \\\n",
              "0    06/28/2023  01/01/2020  06/24/2023  Female        0-05 Months   \n",
              "1    06/28/2023  01/01/2020  06/24/2023    Male        0-05 Months   \n",
              "2    06/28/2023  01/01/2020  06/24/2023  Female       06-11 Months   \n",
              "3    06/28/2023  01/01/2020  06/24/2023    Male       06-11 Months   \n",
              "4    06/28/2023  01/01/2020  06/24/2023  Female            01 Year   \n",
              "..          ...         ...         ...     ...                ...   \n",
              "169  06/28/2023  01/01/2020  06/24/2023    Male           83 Years   \n",
              "170  06/28/2023  01/01/2020  06/24/2023  Female           84 Years   \n",
              "171  06/28/2023  01/01/2020  06/24/2023    Male           84 Years   \n",
              "172  06/28/2023  01/01/2020  06/24/2023  Female  85 Years and over   \n",
              "173  06/28/2023  01/01/2020  06/24/2023    Male  85 Years and over   \n",
              "\n",
              "     Total deaths  COVID-19 Deaths  \n",
              "0           28159              164  \n",
              "1           34555              198  \n",
              "2            2477               65  \n",
              "3            3166               75  \n",
              "4            2295               55  \n",
              "..            ...              ...  \n",
              "169        144727            16274  \n",
              "170        151688            13944  \n",
              "171        142873            15661  \n",
              "172       2001397           171942  \n",
              "173       1302470           135747  \n",
              "\n",
              "[174 rows x 7 columns]"
            ],
            "text/html": [
              "\n",
              "  <div id=\"df-5bd54399-737c-42eb-b24a-49fa47610021\" class=\"colab-df-container\">\n",
              "    <div>\n",
              "<style scoped>\n",
              "    .dataframe tbody tr th:only-of-type {\n",
              "        vertical-align: middle;\n",
              "    }\n",
              "\n",
              "    .dataframe tbody tr th {\n",
              "        vertical-align: top;\n",
              "    }\n",
              "\n",
              "    .dataframe thead th {\n",
              "        text-align: right;\n",
              "    }\n",
              "</style>\n",
              "<table border=\"1\" class=\"dataframe\">\n",
              "  <thead>\n",
              "    <tr style=\"text-align: right;\">\n",
              "      <th></th>\n",
              "      <th>Data as of</th>\n",
              "      <th>Start Date</th>\n",
              "      <th>End Date</th>\n",
              "      <th>Sex</th>\n",
              "      <th>Age Years</th>\n",
              "      <th>Total deaths</th>\n",
              "      <th>COVID-19 Deaths</th>\n",
              "    </tr>\n",
              "  </thead>\n",
              "  <tbody>\n",
              "    <tr>\n",
              "      <th>0</th>\n",
              "      <td>06/28/2023</td>\n",
              "      <td>01/01/2020</td>\n",
              "      <td>06/24/2023</td>\n",
              "      <td>Female</td>\n",
              "      <td>0-05 Months</td>\n",
              "      <td>28159</td>\n",
              "      <td>164</td>\n",
              "    </tr>\n",
              "    <tr>\n",
              "      <th>1</th>\n",
              "      <td>06/28/2023</td>\n",
              "      <td>01/01/2020</td>\n",
              "      <td>06/24/2023</td>\n",
              "      <td>Male</td>\n",
              "      <td>0-05 Months</td>\n",
              "      <td>34555</td>\n",
              "      <td>198</td>\n",
              "    </tr>\n",
              "    <tr>\n",
              "      <th>2</th>\n",
              "      <td>06/28/2023</td>\n",
              "      <td>01/01/2020</td>\n",
              "      <td>06/24/2023</td>\n",
              "      <td>Female</td>\n",
              "      <td>06-11 Months</td>\n",
              "      <td>2477</td>\n",
              "      <td>65</td>\n",
              "    </tr>\n",
              "    <tr>\n",
              "      <th>3</th>\n",
              "      <td>06/28/2023</td>\n",
              "      <td>01/01/2020</td>\n",
              "      <td>06/24/2023</td>\n",
              "      <td>Male</td>\n",
              "      <td>06-11 Months</td>\n",
              "      <td>3166</td>\n",
              "      <td>75</td>\n",
              "    </tr>\n",
              "    <tr>\n",
              "      <th>4</th>\n",
              "      <td>06/28/2023</td>\n",
              "      <td>01/01/2020</td>\n",
              "      <td>06/24/2023</td>\n",
              "      <td>Female</td>\n",
              "      <td>01 Year</td>\n",
              "      <td>2295</td>\n",
              "      <td>55</td>\n",
              "    </tr>\n",
              "    <tr>\n",
              "      <th>...</th>\n",
              "      <td>...</td>\n",
              "      <td>...</td>\n",
              "      <td>...</td>\n",
              "      <td>...</td>\n",
              "      <td>...</td>\n",
              "      <td>...</td>\n",
              "      <td>...</td>\n",
              "    </tr>\n",
              "    <tr>\n",
              "      <th>169</th>\n",
              "      <td>06/28/2023</td>\n",
              "      <td>01/01/2020</td>\n",
              "      <td>06/24/2023</td>\n",
              "      <td>Male</td>\n",
              "      <td>83 Years</td>\n",
              "      <td>144727</td>\n",
              "      <td>16274</td>\n",
              "    </tr>\n",
              "    <tr>\n",
              "      <th>170</th>\n",
              "      <td>06/28/2023</td>\n",
              "      <td>01/01/2020</td>\n",
              "      <td>06/24/2023</td>\n",
              "      <td>Female</td>\n",
              "      <td>84 Years</td>\n",
              "      <td>151688</td>\n",
              "      <td>13944</td>\n",
              "    </tr>\n",
              "    <tr>\n",
              "      <th>171</th>\n",
              "      <td>06/28/2023</td>\n",
              "      <td>01/01/2020</td>\n",
              "      <td>06/24/2023</td>\n",
              "      <td>Male</td>\n",
              "      <td>84 Years</td>\n",
              "      <td>142873</td>\n",
              "      <td>15661</td>\n",
              "    </tr>\n",
              "    <tr>\n",
              "      <th>172</th>\n",
              "      <td>06/28/2023</td>\n",
              "      <td>01/01/2020</td>\n",
              "      <td>06/24/2023</td>\n",
              "      <td>Female</td>\n",
              "      <td>85 Years and over</td>\n",
              "      <td>2001397</td>\n",
              "      <td>171942</td>\n",
              "    </tr>\n",
              "    <tr>\n",
              "      <th>173</th>\n",
              "      <td>06/28/2023</td>\n",
              "      <td>01/01/2020</td>\n",
              "      <td>06/24/2023</td>\n",
              "      <td>Male</td>\n",
              "      <td>85 Years and over</td>\n",
              "      <td>1302470</td>\n",
              "      <td>135747</td>\n",
              "    </tr>\n",
              "  </tbody>\n",
              "</table>\n",
              "<p>174 rows × 7 columns</p>\n",
              "</div>\n",
              "    <div class=\"colab-df-buttons\">\n",
              "\n",
              "  <div class=\"colab-df-container\">\n",
              "    <button class=\"colab-df-convert\" onclick=\"convertToInteractive('df-5bd54399-737c-42eb-b24a-49fa47610021')\"\n",
              "            title=\"Convert this dataframe to an interactive table.\"\n",
              "            style=\"display:none;\">\n",
              "\n",
              "  <svg xmlns=\"http://www.w3.org/2000/svg\" height=\"24px\" viewBox=\"0 -960 960 960\">\n",
              "    <path d=\"M120-120v-720h720v720H120Zm60-500h600v-160H180v160Zm220 220h160v-160H400v160Zm0 220h160v-160H400v160ZM180-400h160v-160H180v160Zm440 0h160v-160H620v160ZM180-180h160v-160H180v160Zm440 0h160v-160H620v160Z\"/>\n",
              "  </svg>\n",
              "    </button>\n",
              "\n",
              "  <style>\n",
              "    .colab-df-container {\n",
              "      display:flex;\n",
              "      gap: 12px;\n",
              "    }\n",
              "\n",
              "    .colab-df-convert {\n",
              "      background-color: #E8F0FE;\n",
              "      border: none;\n",
              "      border-radius: 50%;\n",
              "      cursor: pointer;\n",
              "      display: none;\n",
              "      fill: #1967D2;\n",
              "      height: 32px;\n",
              "      padding: 0 0 0 0;\n",
              "      width: 32px;\n",
              "    }\n",
              "\n",
              "    .colab-df-convert:hover {\n",
              "      background-color: #E2EBFA;\n",
              "      box-shadow: 0px 1px 2px rgba(60, 64, 67, 0.3), 0px 1px 3px 1px rgba(60, 64, 67, 0.15);\n",
              "      fill: #174EA6;\n",
              "    }\n",
              "\n",
              "    .colab-df-buttons div {\n",
              "      margin-bottom: 4px;\n",
              "    }\n",
              "\n",
              "    [theme=dark] .colab-df-convert {\n",
              "      background-color: #3B4455;\n",
              "      fill: #D2E3FC;\n",
              "    }\n",
              "\n",
              "    [theme=dark] .colab-df-convert:hover {\n",
              "      background-color: #434B5C;\n",
              "      box-shadow: 0px 1px 3px 1px rgba(0, 0, 0, 0.15);\n",
              "      filter: drop-shadow(0px 1px 2px rgba(0, 0, 0, 0.3));\n",
              "      fill: #FFFFFF;\n",
              "    }\n",
              "  </style>\n",
              "\n",
              "    <script>\n",
              "      const buttonEl =\n",
              "        document.querySelector('#df-5bd54399-737c-42eb-b24a-49fa47610021 button.colab-df-convert');\n",
              "      buttonEl.style.display =\n",
              "        google.colab.kernel.accessAllowed ? 'block' : 'none';\n",
              "\n",
              "      async function convertToInteractive(key) {\n",
              "        const element = document.querySelector('#df-5bd54399-737c-42eb-b24a-49fa47610021');\n",
              "        const dataTable =\n",
              "          await google.colab.kernel.invokeFunction('convertToInteractive',\n",
              "                                                    [key], {});\n",
              "        if (!dataTable) return;\n",
              "\n",
              "        const docLinkHtml = 'Like what you see? Visit the ' +\n",
              "          '<a target=\"_blank\" href=https://colab.research.google.com/notebooks/data_table.ipynb>data table notebook</a>'\n",
              "          + ' to learn more about interactive tables.';\n",
              "        element.innerHTML = '';\n",
              "        dataTable['output_type'] = 'display_data';\n",
              "        await google.colab.output.renderOutput(dataTable, element);\n",
              "        const docLink = document.createElement('div');\n",
              "        docLink.innerHTML = docLinkHtml;\n",
              "        element.appendChild(docLink);\n",
              "      }\n",
              "    </script>\n",
              "  </div>\n",
              "\n",
              "\n",
              "<div id=\"df-ba84d27c-1b50-4f89-9214-0f3c9050bef6\">\n",
              "  <button class=\"colab-df-quickchart\" onclick=\"quickchart('df-ba84d27c-1b50-4f89-9214-0f3c9050bef6')\"\n",
              "            title=\"Suggest charts\"\n",
              "            style=\"display:none;\">\n",
              "\n",
              "<svg xmlns=\"http://www.w3.org/2000/svg\" height=\"24px\"viewBox=\"0 0 24 24\"\n",
              "     width=\"24px\">\n",
              "    <g>\n",
              "        <path d=\"M19 3H5c-1.1 0-2 .9-2 2v14c0 1.1.9 2 2 2h14c1.1 0 2-.9 2-2V5c0-1.1-.9-2-2-2zM9 17H7v-7h2v7zm4 0h-2V7h2v10zm4 0h-2v-4h2v4z\"/>\n",
              "    </g>\n",
              "</svg>\n",
              "  </button>\n",
              "\n",
              "<style>\n",
              "  .colab-df-quickchart {\n",
              "      --bg-color: #E8F0FE;\n",
              "      --fill-color: #1967D2;\n",
              "      --hover-bg-color: #E2EBFA;\n",
              "      --hover-fill-color: #174EA6;\n",
              "      --disabled-fill-color: #AAA;\n",
              "      --disabled-bg-color: #DDD;\n",
              "  }\n",
              "\n",
              "  [theme=dark] .colab-df-quickchart {\n",
              "      --bg-color: #3B4455;\n",
              "      --fill-color: #D2E3FC;\n",
              "      --hover-bg-color: #434B5C;\n",
              "      --hover-fill-color: #FFFFFF;\n",
              "      --disabled-bg-color: #3B4455;\n",
              "      --disabled-fill-color: #666;\n",
              "  }\n",
              "\n",
              "  .colab-df-quickchart {\n",
              "    background-color: var(--bg-color);\n",
              "    border: none;\n",
              "    border-radius: 50%;\n",
              "    cursor: pointer;\n",
              "    display: none;\n",
              "    fill: var(--fill-color);\n",
              "    height: 32px;\n",
              "    padding: 0;\n",
              "    width: 32px;\n",
              "  }\n",
              "\n",
              "  .colab-df-quickchart:hover {\n",
              "    background-color: var(--hover-bg-color);\n",
              "    box-shadow: 0 1px 2px rgba(60, 64, 67, 0.3), 0 1px 3px 1px rgba(60, 64, 67, 0.15);\n",
              "    fill: var(--button-hover-fill-color);\n",
              "  }\n",
              "\n",
              "  .colab-df-quickchart-complete:disabled,\n",
              "  .colab-df-quickchart-complete:disabled:hover {\n",
              "    background-color: var(--disabled-bg-color);\n",
              "    fill: var(--disabled-fill-color);\n",
              "    box-shadow: none;\n",
              "  }\n",
              "\n",
              "  .colab-df-spinner {\n",
              "    border: 2px solid var(--fill-color);\n",
              "    border-color: transparent;\n",
              "    border-bottom-color: var(--fill-color);\n",
              "    animation:\n",
              "      spin 1s steps(1) infinite;\n",
              "  }\n",
              "\n",
              "  @keyframes spin {\n",
              "    0% {\n",
              "      border-color: transparent;\n",
              "      border-bottom-color: var(--fill-color);\n",
              "      border-left-color: var(--fill-color);\n",
              "    }\n",
              "    20% {\n",
              "      border-color: transparent;\n",
              "      border-left-color: var(--fill-color);\n",
              "      border-top-color: var(--fill-color);\n",
              "    }\n",
              "    30% {\n",
              "      border-color: transparent;\n",
              "      border-left-color: var(--fill-color);\n",
              "      border-top-color: var(--fill-color);\n",
              "      border-right-color: var(--fill-color);\n",
              "    }\n",
              "    40% {\n",
              "      border-color: transparent;\n",
              "      border-right-color: var(--fill-color);\n",
              "      border-top-color: var(--fill-color);\n",
              "    }\n",
              "    60% {\n",
              "      border-color: transparent;\n",
              "      border-right-color: var(--fill-color);\n",
              "    }\n",
              "    80% {\n",
              "      border-color: transparent;\n",
              "      border-right-color: var(--fill-color);\n",
              "      border-bottom-color: var(--fill-color);\n",
              "    }\n",
              "    90% {\n",
              "      border-color: transparent;\n",
              "      border-bottom-color: var(--fill-color);\n",
              "    }\n",
              "  }\n",
              "</style>\n",
              "\n",
              "  <script>\n",
              "    async function quickchart(key) {\n",
              "      const quickchartButtonEl =\n",
              "        document.querySelector('#' + key + ' button');\n",
              "      quickchartButtonEl.disabled = true;  // To prevent multiple clicks.\n",
              "      quickchartButtonEl.classList.add('colab-df-spinner');\n",
              "      try {\n",
              "        const charts = await google.colab.kernel.invokeFunction(\n",
              "            'suggestCharts', [key], {});\n",
              "      } catch (error) {\n",
              "        console.error('Error during call to suggestCharts:', error);\n",
              "      }\n",
              "      quickchartButtonEl.classList.remove('colab-df-spinner');\n",
              "      quickchartButtonEl.classList.add('colab-df-quickchart-complete');\n",
              "    }\n",
              "    (() => {\n",
              "      let quickchartButtonEl =\n",
              "        document.querySelector('#df-ba84d27c-1b50-4f89-9214-0f3c9050bef6 button');\n",
              "      quickchartButtonEl.style.display =\n",
              "        google.colab.kernel.accessAllowed ? 'block' : 'none';\n",
              "    })();\n",
              "  </script>\n",
              "</div>\n",
              "\n",
              "  <div id=\"id_675ec3af-7a27-4e61-80d9-3854eb7ba029\">\n",
              "    <style>\n",
              "      .colab-df-generate {\n",
              "        background-color: #E8F0FE;\n",
              "        border: none;\n",
              "        border-radius: 50%;\n",
              "        cursor: pointer;\n",
              "        display: none;\n",
              "        fill: #1967D2;\n",
              "        height: 32px;\n",
              "        padding: 0 0 0 0;\n",
              "        width: 32px;\n",
              "      }\n",
              "\n",
              "      .colab-df-generate:hover {\n",
              "        background-color: #E2EBFA;\n",
              "        box-shadow: 0px 1px 2px rgba(60, 64, 67, 0.3), 0px 1px 3px 1px rgba(60, 64, 67, 0.15);\n",
              "        fill: #174EA6;\n",
              "      }\n",
              "\n",
              "      [theme=dark] .colab-df-generate {\n",
              "        background-color: #3B4455;\n",
              "        fill: #D2E3FC;\n",
              "      }\n",
              "\n",
              "      [theme=dark] .colab-df-generate:hover {\n",
              "        background-color: #434B5C;\n",
              "        box-shadow: 0px 1px 3px 1px rgba(0, 0, 0, 0.15);\n",
              "        filter: drop-shadow(0px 1px 2px rgba(0, 0, 0, 0.3));\n",
              "        fill: #FFFFFF;\n",
              "      }\n",
              "    </style>\n",
              "    <button class=\"colab-df-generate\" onclick=\"generateWithVariable('df')\"\n",
              "            title=\"Generate code using this dataframe.\"\n",
              "            style=\"display:none;\">\n",
              "\n",
              "  <svg xmlns=\"http://www.w3.org/2000/svg\" height=\"24px\"viewBox=\"0 0 24 24\"\n",
              "       width=\"24px\">\n",
              "    <path d=\"M7,19H8.4L18.45,9,17,7.55,7,17.6ZM5,21V16.75L18.45,3.32a2,2,0,0,1,2.83,0l1.4,1.43a1.91,1.91,0,0,1,.58,1.4,1.91,1.91,0,0,1-.58,1.4L9.25,21ZM18.45,9,17,7.55Zm-12,3A5.31,5.31,0,0,0,4.9,8.1,5.31,5.31,0,0,0,1,6.5,5.31,5.31,0,0,0,4.9,4.9,5.31,5.31,0,0,0,6.5,1,5.31,5.31,0,0,0,8.1,4.9,5.31,5.31,0,0,0,12,6.5,5.46,5.46,0,0,0,6.5,12Z\"/>\n",
              "  </svg>\n",
              "    </button>\n",
              "    <script>\n",
              "      (() => {\n",
              "      const buttonEl =\n",
              "        document.querySelector('#id_675ec3af-7a27-4e61-80d9-3854eb7ba029 button.colab-df-generate');\n",
              "      buttonEl.style.display =\n",
              "        google.colab.kernel.accessAllowed ? 'block' : 'none';\n",
              "\n",
              "      buttonEl.onclick = () => {\n",
              "        google.colab.notebook.generateWithVariable('df');\n",
              "      }\n",
              "      })();\n",
              "    </script>\n",
              "  </div>\n",
              "\n",
              "    </div>\n",
              "  </div>\n"
            ],
            "application/vnd.google.colaboratory.intrinsic+json": {
              "type": "dataframe",
              "variable_name": "df",
              "summary": "{\n  \"name\": \"df\",\n  \"rows\": 174,\n  \"fields\": [\n    {\n      \"column\": \"Data as of\",\n      \"properties\": {\n        \"dtype\": \"object\",\n        \"num_unique_values\": 1,\n        \"samples\": [\n          \"06/28/2023\"\n        ],\n        \"semantic_type\": \"\",\n        \"description\": \"\"\n      }\n    },\n    {\n      \"column\": \"Start Date\",\n      \"properties\": {\n        \"dtype\": \"object\",\n        \"num_unique_values\": 1,\n        \"samples\": [\n          \"01/01/2020\"\n        ],\n        \"semantic_type\": \"\",\n        \"description\": \"\"\n      }\n    },\n    {\n      \"column\": \"End Date\",\n      \"properties\": {\n        \"dtype\": \"object\",\n        \"num_unique_values\": 1,\n        \"samples\": [\n          \"06/24/2023\"\n        ],\n        \"semantic_type\": \"\",\n        \"description\": \"\"\n      }\n    },\n    {\n      \"column\": \"Sex\",\n      \"properties\": {\n        \"dtype\": \"category\",\n        \"num_unique_values\": 2,\n        \"samples\": [\n          \"Male\"\n        ],\n        \"semantic_type\": \"\",\n        \"description\": \"\"\n      }\n    },\n    {\n      \"column\": \"Age Years\",\n      \"properties\": {\n        \"dtype\": \"string\",\n        \"num_unique_values\": 87,\n        \"samples\": [\n          \"75 Years\"\n        ],\n        \"semantic_type\": \"\",\n        \"description\": \"\"\n      }\n    },\n    {\n      \"column\": \"Total deaths\",\n      \"properties\": {\n        \"dtype\": \"number\",\n        \"std\": 183002,\n        \"min\": 663,\n        \"max\": 2001397,\n        \"num_unique_values\": 173,\n        \"samples\": [\n          150075\n        ],\n        \"semantic_type\": \"\",\n        \"description\": \"\"\n      }\n    },\n    {\n      \"column\": \"COVID-19 Deaths\",\n      \"properties\": {\n        \"dtype\": \"number\",\n        \"std\": 17031,\n        \"min\": 14,\n        \"max\": 171942,\n        \"num_unique_values\": 164,\n        \"samples\": [\n          15477\n        ],\n        \"semantic_type\": \"\",\n        \"description\": \"\"\n      }\n    }\n  ]\n}"
            }
          },
          "metadata": {},
          "execution_count": 75
        }
      ]
    },
    {
      "cell_type": "markdown",
      "source": [
        "As we can see in the cell above, the dataframe created by the csv file has many flaws. The most glaring issue lie in the Age Years column. To start with, we can see that the column contains multiple different strings, which make things difficult when trying to create visualizations from the dataframe. The age ranges included are also inconsistent with the rest of the data. For example, the ranges are from '0-05 Months', '06-11 Months', '01 Year', then 'X Year**s**'. We see another problem that lies in the Age Years column, the '85 Years and Over' category can encompass more than one year in the range, which make it inconsistent with the rest of the rows. The following lines of code show how we can combat these issues."
      ],
      "metadata": {
        "id": "ZpTLkJCoP9om"
      }
    },
    {
      "cell_type": "code",
      "source": [
        "df = df[df['Age Years'] != \"85 Years and over\"]\n",
        "\n",
        "df"
      ],
      "metadata": {
        "colab": {
          "base_uri": "https://localhost:8080/",
          "height": 419
        },
        "id": "67DA6OdEKZ3X",
        "outputId": "bcb895eb-ae50-4bae-9e60-490b89799569"
      },
      "execution_count": 76,
      "outputs": [
        {
          "output_type": "execute_result",
          "data": {
            "text/plain": [
              "     Data as of  Start Date    End Date     Sex     Age Years  Total deaths  \\\n",
              "0    06/28/2023  01/01/2020  06/24/2023  Female   0-05 Months         28159   \n",
              "1    06/28/2023  01/01/2020  06/24/2023    Male   0-05 Months         34555   \n",
              "2    06/28/2023  01/01/2020  06/24/2023  Female  06-11 Months          2477   \n",
              "3    06/28/2023  01/01/2020  06/24/2023    Male  06-11 Months          3166   \n",
              "4    06/28/2023  01/01/2020  06/24/2023  Female       01 Year          2295   \n",
              "..          ...         ...         ...     ...           ...           ...   \n",
              "167  06/28/2023  01/01/2020  06/24/2023    Male      82 Years        144905   \n",
              "168  06/28/2023  01/01/2020  06/24/2023  Female      83 Years        147444   \n",
              "169  06/28/2023  01/01/2020  06/24/2023    Male      83 Years        144727   \n",
              "170  06/28/2023  01/01/2020  06/24/2023  Female      84 Years        151688   \n",
              "171  06/28/2023  01/01/2020  06/24/2023    Male      84 Years        142873   \n",
              "\n",
              "     COVID-19 Deaths  \n",
              "0                164  \n",
              "1                198  \n",
              "2                 65  \n",
              "3                 75  \n",
              "4                 55  \n",
              "..               ...  \n",
              "167            16193  \n",
              "168            13769  \n",
              "169            16274  \n",
              "170            13944  \n",
              "171            15661  \n",
              "\n",
              "[172 rows x 7 columns]"
            ],
            "text/html": [
              "\n",
              "  <div id=\"df-fb4c276c-a596-4fb5-a87a-c4fcab2de8b1\" class=\"colab-df-container\">\n",
              "    <div>\n",
              "<style scoped>\n",
              "    .dataframe tbody tr th:only-of-type {\n",
              "        vertical-align: middle;\n",
              "    }\n",
              "\n",
              "    .dataframe tbody tr th {\n",
              "        vertical-align: top;\n",
              "    }\n",
              "\n",
              "    .dataframe thead th {\n",
              "        text-align: right;\n",
              "    }\n",
              "</style>\n",
              "<table border=\"1\" class=\"dataframe\">\n",
              "  <thead>\n",
              "    <tr style=\"text-align: right;\">\n",
              "      <th></th>\n",
              "      <th>Data as of</th>\n",
              "      <th>Start Date</th>\n",
              "      <th>End Date</th>\n",
              "      <th>Sex</th>\n",
              "      <th>Age Years</th>\n",
              "      <th>Total deaths</th>\n",
              "      <th>COVID-19 Deaths</th>\n",
              "    </tr>\n",
              "  </thead>\n",
              "  <tbody>\n",
              "    <tr>\n",
              "      <th>0</th>\n",
              "      <td>06/28/2023</td>\n",
              "      <td>01/01/2020</td>\n",
              "      <td>06/24/2023</td>\n",
              "      <td>Female</td>\n",
              "      <td>0-05 Months</td>\n",
              "      <td>28159</td>\n",
              "      <td>164</td>\n",
              "    </tr>\n",
              "    <tr>\n",
              "      <th>1</th>\n",
              "      <td>06/28/2023</td>\n",
              "      <td>01/01/2020</td>\n",
              "      <td>06/24/2023</td>\n",
              "      <td>Male</td>\n",
              "      <td>0-05 Months</td>\n",
              "      <td>34555</td>\n",
              "      <td>198</td>\n",
              "    </tr>\n",
              "    <tr>\n",
              "      <th>2</th>\n",
              "      <td>06/28/2023</td>\n",
              "      <td>01/01/2020</td>\n",
              "      <td>06/24/2023</td>\n",
              "      <td>Female</td>\n",
              "      <td>06-11 Months</td>\n",
              "      <td>2477</td>\n",
              "      <td>65</td>\n",
              "    </tr>\n",
              "    <tr>\n",
              "      <th>3</th>\n",
              "      <td>06/28/2023</td>\n",
              "      <td>01/01/2020</td>\n",
              "      <td>06/24/2023</td>\n",
              "      <td>Male</td>\n",
              "      <td>06-11 Months</td>\n",
              "      <td>3166</td>\n",
              "      <td>75</td>\n",
              "    </tr>\n",
              "    <tr>\n",
              "      <th>4</th>\n",
              "      <td>06/28/2023</td>\n",
              "      <td>01/01/2020</td>\n",
              "      <td>06/24/2023</td>\n",
              "      <td>Female</td>\n",
              "      <td>01 Year</td>\n",
              "      <td>2295</td>\n",
              "      <td>55</td>\n",
              "    </tr>\n",
              "    <tr>\n",
              "      <th>...</th>\n",
              "      <td>...</td>\n",
              "      <td>...</td>\n",
              "      <td>...</td>\n",
              "      <td>...</td>\n",
              "      <td>...</td>\n",
              "      <td>...</td>\n",
              "      <td>...</td>\n",
              "    </tr>\n",
              "    <tr>\n",
              "      <th>167</th>\n",
              "      <td>06/28/2023</td>\n",
              "      <td>01/01/2020</td>\n",
              "      <td>06/24/2023</td>\n",
              "      <td>Male</td>\n",
              "      <td>82 Years</td>\n",
              "      <td>144905</td>\n",
              "      <td>16193</td>\n",
              "    </tr>\n",
              "    <tr>\n",
              "      <th>168</th>\n",
              "      <td>06/28/2023</td>\n",
              "      <td>01/01/2020</td>\n",
              "      <td>06/24/2023</td>\n",
              "      <td>Female</td>\n",
              "      <td>83 Years</td>\n",
              "      <td>147444</td>\n",
              "      <td>13769</td>\n",
              "    </tr>\n",
              "    <tr>\n",
              "      <th>169</th>\n",
              "      <td>06/28/2023</td>\n",
              "      <td>01/01/2020</td>\n",
              "      <td>06/24/2023</td>\n",
              "      <td>Male</td>\n",
              "      <td>83 Years</td>\n",
              "      <td>144727</td>\n",
              "      <td>16274</td>\n",
              "    </tr>\n",
              "    <tr>\n",
              "      <th>170</th>\n",
              "      <td>06/28/2023</td>\n",
              "      <td>01/01/2020</td>\n",
              "      <td>06/24/2023</td>\n",
              "      <td>Female</td>\n",
              "      <td>84 Years</td>\n",
              "      <td>151688</td>\n",
              "      <td>13944</td>\n",
              "    </tr>\n",
              "    <tr>\n",
              "      <th>171</th>\n",
              "      <td>06/28/2023</td>\n",
              "      <td>01/01/2020</td>\n",
              "      <td>06/24/2023</td>\n",
              "      <td>Male</td>\n",
              "      <td>84 Years</td>\n",
              "      <td>142873</td>\n",
              "      <td>15661</td>\n",
              "    </tr>\n",
              "  </tbody>\n",
              "</table>\n",
              "<p>172 rows × 7 columns</p>\n",
              "</div>\n",
              "    <div class=\"colab-df-buttons\">\n",
              "\n",
              "  <div class=\"colab-df-container\">\n",
              "    <button class=\"colab-df-convert\" onclick=\"convertToInteractive('df-fb4c276c-a596-4fb5-a87a-c4fcab2de8b1')\"\n",
              "            title=\"Convert this dataframe to an interactive table.\"\n",
              "            style=\"display:none;\">\n",
              "\n",
              "  <svg xmlns=\"http://www.w3.org/2000/svg\" height=\"24px\" viewBox=\"0 -960 960 960\">\n",
              "    <path d=\"M120-120v-720h720v720H120Zm60-500h600v-160H180v160Zm220 220h160v-160H400v160Zm0 220h160v-160H400v160ZM180-400h160v-160H180v160Zm440 0h160v-160H620v160ZM180-180h160v-160H180v160Zm440 0h160v-160H620v160Z\"/>\n",
              "  </svg>\n",
              "    </button>\n",
              "\n",
              "  <style>\n",
              "    .colab-df-container {\n",
              "      display:flex;\n",
              "      gap: 12px;\n",
              "    }\n",
              "\n",
              "    .colab-df-convert {\n",
              "      background-color: #E8F0FE;\n",
              "      border: none;\n",
              "      border-radius: 50%;\n",
              "      cursor: pointer;\n",
              "      display: none;\n",
              "      fill: #1967D2;\n",
              "      height: 32px;\n",
              "      padding: 0 0 0 0;\n",
              "      width: 32px;\n",
              "    }\n",
              "\n",
              "    .colab-df-convert:hover {\n",
              "      background-color: #E2EBFA;\n",
              "      box-shadow: 0px 1px 2px rgba(60, 64, 67, 0.3), 0px 1px 3px 1px rgba(60, 64, 67, 0.15);\n",
              "      fill: #174EA6;\n",
              "    }\n",
              "\n",
              "    .colab-df-buttons div {\n",
              "      margin-bottom: 4px;\n",
              "    }\n",
              "\n",
              "    [theme=dark] .colab-df-convert {\n",
              "      background-color: #3B4455;\n",
              "      fill: #D2E3FC;\n",
              "    }\n",
              "\n",
              "    [theme=dark] .colab-df-convert:hover {\n",
              "      background-color: #434B5C;\n",
              "      box-shadow: 0px 1px 3px 1px rgba(0, 0, 0, 0.15);\n",
              "      filter: drop-shadow(0px 1px 2px rgba(0, 0, 0, 0.3));\n",
              "      fill: #FFFFFF;\n",
              "    }\n",
              "  </style>\n",
              "\n",
              "    <script>\n",
              "      const buttonEl =\n",
              "        document.querySelector('#df-fb4c276c-a596-4fb5-a87a-c4fcab2de8b1 button.colab-df-convert');\n",
              "      buttonEl.style.display =\n",
              "        google.colab.kernel.accessAllowed ? 'block' : 'none';\n",
              "\n",
              "      async function convertToInteractive(key) {\n",
              "        const element = document.querySelector('#df-fb4c276c-a596-4fb5-a87a-c4fcab2de8b1');\n",
              "        const dataTable =\n",
              "          await google.colab.kernel.invokeFunction('convertToInteractive',\n",
              "                                                    [key], {});\n",
              "        if (!dataTable) return;\n",
              "\n",
              "        const docLinkHtml = 'Like what you see? Visit the ' +\n",
              "          '<a target=\"_blank\" href=https://colab.research.google.com/notebooks/data_table.ipynb>data table notebook</a>'\n",
              "          + ' to learn more about interactive tables.';\n",
              "        element.innerHTML = '';\n",
              "        dataTable['output_type'] = 'display_data';\n",
              "        await google.colab.output.renderOutput(dataTable, element);\n",
              "        const docLink = document.createElement('div');\n",
              "        docLink.innerHTML = docLinkHtml;\n",
              "        element.appendChild(docLink);\n",
              "      }\n",
              "    </script>\n",
              "  </div>\n",
              "\n",
              "\n",
              "<div id=\"df-b3d27903-46a7-47c5-a7ef-ad67891de020\">\n",
              "  <button class=\"colab-df-quickchart\" onclick=\"quickchart('df-b3d27903-46a7-47c5-a7ef-ad67891de020')\"\n",
              "            title=\"Suggest charts\"\n",
              "            style=\"display:none;\">\n",
              "\n",
              "<svg xmlns=\"http://www.w3.org/2000/svg\" height=\"24px\"viewBox=\"0 0 24 24\"\n",
              "     width=\"24px\">\n",
              "    <g>\n",
              "        <path d=\"M19 3H5c-1.1 0-2 .9-2 2v14c0 1.1.9 2 2 2h14c1.1 0 2-.9 2-2V5c0-1.1-.9-2-2-2zM9 17H7v-7h2v7zm4 0h-2V7h2v10zm4 0h-2v-4h2v4z\"/>\n",
              "    </g>\n",
              "</svg>\n",
              "  </button>\n",
              "\n",
              "<style>\n",
              "  .colab-df-quickchart {\n",
              "      --bg-color: #E8F0FE;\n",
              "      --fill-color: #1967D2;\n",
              "      --hover-bg-color: #E2EBFA;\n",
              "      --hover-fill-color: #174EA6;\n",
              "      --disabled-fill-color: #AAA;\n",
              "      --disabled-bg-color: #DDD;\n",
              "  }\n",
              "\n",
              "  [theme=dark] .colab-df-quickchart {\n",
              "      --bg-color: #3B4455;\n",
              "      --fill-color: #D2E3FC;\n",
              "      --hover-bg-color: #434B5C;\n",
              "      --hover-fill-color: #FFFFFF;\n",
              "      --disabled-bg-color: #3B4455;\n",
              "      --disabled-fill-color: #666;\n",
              "  }\n",
              "\n",
              "  .colab-df-quickchart {\n",
              "    background-color: var(--bg-color);\n",
              "    border: none;\n",
              "    border-radius: 50%;\n",
              "    cursor: pointer;\n",
              "    display: none;\n",
              "    fill: var(--fill-color);\n",
              "    height: 32px;\n",
              "    padding: 0;\n",
              "    width: 32px;\n",
              "  }\n",
              "\n",
              "  .colab-df-quickchart:hover {\n",
              "    background-color: var(--hover-bg-color);\n",
              "    box-shadow: 0 1px 2px rgba(60, 64, 67, 0.3), 0 1px 3px 1px rgba(60, 64, 67, 0.15);\n",
              "    fill: var(--button-hover-fill-color);\n",
              "  }\n",
              "\n",
              "  .colab-df-quickchart-complete:disabled,\n",
              "  .colab-df-quickchart-complete:disabled:hover {\n",
              "    background-color: var(--disabled-bg-color);\n",
              "    fill: var(--disabled-fill-color);\n",
              "    box-shadow: none;\n",
              "  }\n",
              "\n",
              "  .colab-df-spinner {\n",
              "    border: 2px solid var(--fill-color);\n",
              "    border-color: transparent;\n",
              "    border-bottom-color: var(--fill-color);\n",
              "    animation:\n",
              "      spin 1s steps(1) infinite;\n",
              "  }\n",
              "\n",
              "  @keyframes spin {\n",
              "    0% {\n",
              "      border-color: transparent;\n",
              "      border-bottom-color: var(--fill-color);\n",
              "      border-left-color: var(--fill-color);\n",
              "    }\n",
              "    20% {\n",
              "      border-color: transparent;\n",
              "      border-left-color: var(--fill-color);\n",
              "      border-top-color: var(--fill-color);\n",
              "    }\n",
              "    30% {\n",
              "      border-color: transparent;\n",
              "      border-left-color: var(--fill-color);\n",
              "      border-top-color: var(--fill-color);\n",
              "      border-right-color: var(--fill-color);\n",
              "    }\n",
              "    40% {\n",
              "      border-color: transparent;\n",
              "      border-right-color: var(--fill-color);\n",
              "      border-top-color: var(--fill-color);\n",
              "    }\n",
              "    60% {\n",
              "      border-color: transparent;\n",
              "      border-right-color: var(--fill-color);\n",
              "    }\n",
              "    80% {\n",
              "      border-color: transparent;\n",
              "      border-right-color: var(--fill-color);\n",
              "      border-bottom-color: var(--fill-color);\n",
              "    }\n",
              "    90% {\n",
              "      border-color: transparent;\n",
              "      border-bottom-color: var(--fill-color);\n",
              "    }\n",
              "  }\n",
              "</style>\n",
              "\n",
              "  <script>\n",
              "    async function quickchart(key) {\n",
              "      const quickchartButtonEl =\n",
              "        document.querySelector('#' + key + ' button');\n",
              "      quickchartButtonEl.disabled = true;  // To prevent multiple clicks.\n",
              "      quickchartButtonEl.classList.add('colab-df-spinner');\n",
              "      try {\n",
              "        const charts = await google.colab.kernel.invokeFunction(\n",
              "            'suggestCharts', [key], {});\n",
              "      } catch (error) {\n",
              "        console.error('Error during call to suggestCharts:', error);\n",
              "      }\n",
              "      quickchartButtonEl.classList.remove('colab-df-spinner');\n",
              "      quickchartButtonEl.classList.add('colab-df-quickchart-complete');\n",
              "    }\n",
              "    (() => {\n",
              "      let quickchartButtonEl =\n",
              "        document.querySelector('#df-b3d27903-46a7-47c5-a7ef-ad67891de020 button');\n",
              "      quickchartButtonEl.style.display =\n",
              "        google.colab.kernel.accessAllowed ? 'block' : 'none';\n",
              "    })();\n",
              "  </script>\n",
              "</div>\n",
              "\n",
              "  <div id=\"id_38dad5eb-2b6c-4731-810c-c57a238e4c5d\">\n",
              "    <style>\n",
              "      .colab-df-generate {\n",
              "        background-color: #E8F0FE;\n",
              "        border: none;\n",
              "        border-radius: 50%;\n",
              "        cursor: pointer;\n",
              "        display: none;\n",
              "        fill: #1967D2;\n",
              "        height: 32px;\n",
              "        padding: 0 0 0 0;\n",
              "        width: 32px;\n",
              "      }\n",
              "\n",
              "      .colab-df-generate:hover {\n",
              "        background-color: #E2EBFA;\n",
              "        box-shadow: 0px 1px 2px rgba(60, 64, 67, 0.3), 0px 1px 3px 1px rgba(60, 64, 67, 0.15);\n",
              "        fill: #174EA6;\n",
              "      }\n",
              "\n",
              "      [theme=dark] .colab-df-generate {\n",
              "        background-color: #3B4455;\n",
              "        fill: #D2E3FC;\n",
              "      }\n",
              "\n",
              "      [theme=dark] .colab-df-generate:hover {\n",
              "        background-color: #434B5C;\n",
              "        box-shadow: 0px 1px 3px 1px rgba(0, 0, 0, 0.15);\n",
              "        filter: drop-shadow(0px 1px 2px rgba(0, 0, 0, 0.3));\n",
              "        fill: #FFFFFF;\n",
              "      }\n",
              "    </style>\n",
              "    <button class=\"colab-df-generate\" onclick=\"generateWithVariable('df')\"\n",
              "            title=\"Generate code using this dataframe.\"\n",
              "            style=\"display:none;\">\n",
              "\n",
              "  <svg xmlns=\"http://www.w3.org/2000/svg\" height=\"24px\"viewBox=\"0 0 24 24\"\n",
              "       width=\"24px\">\n",
              "    <path d=\"M7,19H8.4L18.45,9,17,7.55,7,17.6ZM5,21V16.75L18.45,3.32a2,2,0,0,1,2.83,0l1.4,1.43a1.91,1.91,0,0,1,.58,1.4,1.91,1.91,0,0,1-.58,1.4L9.25,21ZM18.45,9,17,7.55Zm-12,3A5.31,5.31,0,0,0,4.9,8.1,5.31,5.31,0,0,0,1,6.5,5.31,5.31,0,0,0,4.9,4.9,5.31,5.31,0,0,0,6.5,1,5.31,5.31,0,0,0,8.1,4.9,5.31,5.31,0,0,0,12,6.5,5.46,5.46,0,0,0,6.5,12Z\"/>\n",
              "  </svg>\n",
              "    </button>\n",
              "    <script>\n",
              "      (() => {\n",
              "      const buttonEl =\n",
              "        document.querySelector('#id_38dad5eb-2b6c-4731-810c-c57a238e4c5d button.colab-df-generate');\n",
              "      buttonEl.style.display =\n",
              "        google.colab.kernel.accessAllowed ? 'block' : 'none';\n",
              "\n",
              "      buttonEl.onclick = () => {\n",
              "        google.colab.notebook.generateWithVariable('df');\n",
              "      }\n",
              "      })();\n",
              "    </script>\n",
              "  </div>\n",
              "\n",
              "    </div>\n",
              "  </div>\n"
            ],
            "application/vnd.google.colaboratory.intrinsic+json": {
              "type": "dataframe",
              "variable_name": "df",
              "summary": "{\n  \"name\": \"df\",\n  \"rows\": 172,\n  \"fields\": [\n    {\n      \"column\": \"Data as of\",\n      \"properties\": {\n        \"dtype\": \"object\",\n        \"num_unique_values\": 1,\n        \"samples\": [\n          \"06/28/2023\"\n        ],\n        \"semantic_type\": \"\",\n        \"description\": \"\"\n      }\n    },\n    {\n      \"column\": \"Start Date\",\n      \"properties\": {\n        \"dtype\": \"object\",\n        \"num_unique_values\": 1,\n        \"samples\": [\n          \"01/01/2020\"\n        ],\n        \"semantic_type\": \"\",\n        \"description\": \"\"\n      }\n    },\n    {\n      \"column\": \"End Date\",\n      \"properties\": {\n        \"dtype\": \"object\",\n        \"num_unique_values\": 1,\n        \"samples\": [\n          \"06/24/2023\"\n        ],\n        \"semantic_type\": \"\",\n        \"description\": \"\"\n      }\n    },\n    {\n      \"column\": \"Sex\",\n      \"properties\": {\n        \"dtype\": \"category\",\n        \"num_unique_values\": 2,\n        \"samples\": [\n          \"Male\"\n        ],\n        \"semantic_type\": \"\",\n        \"description\": \"\"\n      }\n    },\n    {\n      \"column\": \"Age Years\",\n      \"properties\": {\n        \"dtype\": \"string\",\n        \"num_unique_values\": 86,\n        \"samples\": [\n          \"74 Years\"\n        ],\n        \"semantic_type\": \"\",\n        \"description\": \"\"\n      }\n    },\n    {\n      \"column\": \"Total deaths\",\n      \"properties\": {\n        \"dtype\": \"number\",\n        \"std\": 52075,\n        \"min\": 663,\n        \"max\": 153611,\n        \"num_unique_values\": 171,\n        \"samples\": [\n          26130\n        ],\n        \"semantic_type\": \"\",\n        \"description\": \"\"\n      }\n    },\n    {\n      \"column\": \"COVID-19 Deaths\",\n      \"properties\": {\n        \"dtype\": \"number\",\n        \"std\": 5732,\n        \"min\": 14,\n        \"max\": 17619,\n        \"num_unique_values\": 162,\n        \"samples\": [\n          13769\n        ],\n        \"semantic_type\": \"\",\n        \"description\": \"\"\n      }\n    }\n  ]\n}"
            }
          },
          "metadata": {},
          "execution_count": 76
        }
      ]
    },
    {
      "cell_type": "markdown",
      "source": [
        "In the cell above is the result of the df after dropping rows with '85 Years and Over'."
      ],
      "metadata": {
        "id": "eZ9TBbLcSeGy"
      }
    },
    {
      "cell_type": "code",
      "source": [
        "def convert_age_to_years(age_str):\n",
        "    if 'months' in age_str.lower():\n",
        "        return 0\n",
        "    elif 'year' in age_str.lower():\n",
        "        return int(age_str.split()[0])\n",
        "    else:\n",
        "        return None\n",
        "\n",
        "df['age_years'] = df['Age Years'].apply(convert_age_to_years)\n",
        "df = df.drop(columns=['Age Years'])\n",
        "\n",
        "df"
      ],
      "metadata": {
        "colab": {
          "base_uri": "https://localhost:8080/",
          "height": 521
        },
        "id": "5mCKE6pKRzFv",
        "outputId": "981b5aff-cb56-4484-dd18-9d4ad3ad073e"
      },
      "execution_count": 77,
      "outputs": [
        {
          "output_type": "stream",
          "name": "stderr",
          "text": [
            "<ipython-input-77-66e12e157eb7>:9: SettingWithCopyWarning: \n",
            "A value is trying to be set on a copy of a slice from a DataFrame.\n",
            "Try using .loc[row_indexer,col_indexer] = value instead\n",
            "\n",
            "See the caveats in the documentation: https://pandas.pydata.org/pandas-docs/stable/user_guide/indexing.html#returning-a-view-versus-a-copy\n",
            "  df['age_years'] = df['Age Years'].apply(convert_age_to_years)\n"
          ]
        },
        {
          "output_type": "execute_result",
          "data": {
            "text/plain": [
              "     Data as of  Start Date    End Date     Sex  Total deaths  \\\n",
              "0    06/28/2023  01/01/2020  06/24/2023  Female         28159   \n",
              "1    06/28/2023  01/01/2020  06/24/2023    Male         34555   \n",
              "2    06/28/2023  01/01/2020  06/24/2023  Female          2477   \n",
              "3    06/28/2023  01/01/2020  06/24/2023    Male          3166   \n",
              "4    06/28/2023  01/01/2020  06/24/2023  Female          2295   \n",
              "..          ...         ...         ...     ...           ...   \n",
              "167  06/28/2023  01/01/2020  06/24/2023    Male        144905   \n",
              "168  06/28/2023  01/01/2020  06/24/2023  Female        147444   \n",
              "169  06/28/2023  01/01/2020  06/24/2023    Male        144727   \n",
              "170  06/28/2023  01/01/2020  06/24/2023  Female        151688   \n",
              "171  06/28/2023  01/01/2020  06/24/2023    Male        142873   \n",
              "\n",
              "     COVID-19 Deaths  age_years  \n",
              "0                164          0  \n",
              "1                198          0  \n",
              "2                 65          0  \n",
              "3                 75          0  \n",
              "4                 55          1  \n",
              "..               ...        ...  \n",
              "167            16193         82  \n",
              "168            13769         83  \n",
              "169            16274         83  \n",
              "170            13944         84  \n",
              "171            15661         84  \n",
              "\n",
              "[172 rows x 7 columns]"
            ],
            "text/html": [
              "\n",
              "  <div id=\"df-0feaf6f6-ea0d-4119-9c3e-67cc28411ffc\" class=\"colab-df-container\">\n",
              "    <div>\n",
              "<style scoped>\n",
              "    .dataframe tbody tr th:only-of-type {\n",
              "        vertical-align: middle;\n",
              "    }\n",
              "\n",
              "    .dataframe tbody tr th {\n",
              "        vertical-align: top;\n",
              "    }\n",
              "\n",
              "    .dataframe thead th {\n",
              "        text-align: right;\n",
              "    }\n",
              "</style>\n",
              "<table border=\"1\" class=\"dataframe\">\n",
              "  <thead>\n",
              "    <tr style=\"text-align: right;\">\n",
              "      <th></th>\n",
              "      <th>Data as of</th>\n",
              "      <th>Start Date</th>\n",
              "      <th>End Date</th>\n",
              "      <th>Sex</th>\n",
              "      <th>Total deaths</th>\n",
              "      <th>COVID-19 Deaths</th>\n",
              "      <th>age_years</th>\n",
              "    </tr>\n",
              "  </thead>\n",
              "  <tbody>\n",
              "    <tr>\n",
              "      <th>0</th>\n",
              "      <td>06/28/2023</td>\n",
              "      <td>01/01/2020</td>\n",
              "      <td>06/24/2023</td>\n",
              "      <td>Female</td>\n",
              "      <td>28159</td>\n",
              "      <td>164</td>\n",
              "      <td>0</td>\n",
              "    </tr>\n",
              "    <tr>\n",
              "      <th>1</th>\n",
              "      <td>06/28/2023</td>\n",
              "      <td>01/01/2020</td>\n",
              "      <td>06/24/2023</td>\n",
              "      <td>Male</td>\n",
              "      <td>34555</td>\n",
              "      <td>198</td>\n",
              "      <td>0</td>\n",
              "    </tr>\n",
              "    <tr>\n",
              "      <th>2</th>\n",
              "      <td>06/28/2023</td>\n",
              "      <td>01/01/2020</td>\n",
              "      <td>06/24/2023</td>\n",
              "      <td>Female</td>\n",
              "      <td>2477</td>\n",
              "      <td>65</td>\n",
              "      <td>0</td>\n",
              "    </tr>\n",
              "    <tr>\n",
              "      <th>3</th>\n",
              "      <td>06/28/2023</td>\n",
              "      <td>01/01/2020</td>\n",
              "      <td>06/24/2023</td>\n",
              "      <td>Male</td>\n",
              "      <td>3166</td>\n",
              "      <td>75</td>\n",
              "      <td>0</td>\n",
              "    </tr>\n",
              "    <tr>\n",
              "      <th>4</th>\n",
              "      <td>06/28/2023</td>\n",
              "      <td>01/01/2020</td>\n",
              "      <td>06/24/2023</td>\n",
              "      <td>Female</td>\n",
              "      <td>2295</td>\n",
              "      <td>55</td>\n",
              "      <td>1</td>\n",
              "    </tr>\n",
              "    <tr>\n",
              "      <th>...</th>\n",
              "      <td>...</td>\n",
              "      <td>...</td>\n",
              "      <td>...</td>\n",
              "      <td>...</td>\n",
              "      <td>...</td>\n",
              "      <td>...</td>\n",
              "      <td>...</td>\n",
              "    </tr>\n",
              "    <tr>\n",
              "      <th>167</th>\n",
              "      <td>06/28/2023</td>\n",
              "      <td>01/01/2020</td>\n",
              "      <td>06/24/2023</td>\n",
              "      <td>Male</td>\n",
              "      <td>144905</td>\n",
              "      <td>16193</td>\n",
              "      <td>82</td>\n",
              "    </tr>\n",
              "    <tr>\n",
              "      <th>168</th>\n",
              "      <td>06/28/2023</td>\n",
              "      <td>01/01/2020</td>\n",
              "      <td>06/24/2023</td>\n",
              "      <td>Female</td>\n",
              "      <td>147444</td>\n",
              "      <td>13769</td>\n",
              "      <td>83</td>\n",
              "    </tr>\n",
              "    <tr>\n",
              "      <th>169</th>\n",
              "      <td>06/28/2023</td>\n",
              "      <td>01/01/2020</td>\n",
              "      <td>06/24/2023</td>\n",
              "      <td>Male</td>\n",
              "      <td>144727</td>\n",
              "      <td>16274</td>\n",
              "      <td>83</td>\n",
              "    </tr>\n",
              "    <tr>\n",
              "      <th>170</th>\n",
              "      <td>06/28/2023</td>\n",
              "      <td>01/01/2020</td>\n",
              "      <td>06/24/2023</td>\n",
              "      <td>Female</td>\n",
              "      <td>151688</td>\n",
              "      <td>13944</td>\n",
              "      <td>84</td>\n",
              "    </tr>\n",
              "    <tr>\n",
              "      <th>171</th>\n",
              "      <td>06/28/2023</td>\n",
              "      <td>01/01/2020</td>\n",
              "      <td>06/24/2023</td>\n",
              "      <td>Male</td>\n",
              "      <td>142873</td>\n",
              "      <td>15661</td>\n",
              "      <td>84</td>\n",
              "    </tr>\n",
              "  </tbody>\n",
              "</table>\n",
              "<p>172 rows × 7 columns</p>\n",
              "</div>\n",
              "    <div class=\"colab-df-buttons\">\n",
              "\n",
              "  <div class=\"colab-df-container\">\n",
              "    <button class=\"colab-df-convert\" onclick=\"convertToInteractive('df-0feaf6f6-ea0d-4119-9c3e-67cc28411ffc')\"\n",
              "            title=\"Convert this dataframe to an interactive table.\"\n",
              "            style=\"display:none;\">\n",
              "\n",
              "  <svg xmlns=\"http://www.w3.org/2000/svg\" height=\"24px\" viewBox=\"0 -960 960 960\">\n",
              "    <path d=\"M120-120v-720h720v720H120Zm60-500h600v-160H180v160Zm220 220h160v-160H400v160Zm0 220h160v-160H400v160ZM180-400h160v-160H180v160Zm440 0h160v-160H620v160ZM180-180h160v-160H180v160Zm440 0h160v-160H620v160Z\"/>\n",
              "  </svg>\n",
              "    </button>\n",
              "\n",
              "  <style>\n",
              "    .colab-df-container {\n",
              "      display:flex;\n",
              "      gap: 12px;\n",
              "    }\n",
              "\n",
              "    .colab-df-convert {\n",
              "      background-color: #E8F0FE;\n",
              "      border: none;\n",
              "      border-radius: 50%;\n",
              "      cursor: pointer;\n",
              "      display: none;\n",
              "      fill: #1967D2;\n",
              "      height: 32px;\n",
              "      padding: 0 0 0 0;\n",
              "      width: 32px;\n",
              "    }\n",
              "\n",
              "    .colab-df-convert:hover {\n",
              "      background-color: #E2EBFA;\n",
              "      box-shadow: 0px 1px 2px rgba(60, 64, 67, 0.3), 0px 1px 3px 1px rgba(60, 64, 67, 0.15);\n",
              "      fill: #174EA6;\n",
              "    }\n",
              "\n",
              "    .colab-df-buttons div {\n",
              "      margin-bottom: 4px;\n",
              "    }\n",
              "\n",
              "    [theme=dark] .colab-df-convert {\n",
              "      background-color: #3B4455;\n",
              "      fill: #D2E3FC;\n",
              "    }\n",
              "\n",
              "    [theme=dark] .colab-df-convert:hover {\n",
              "      background-color: #434B5C;\n",
              "      box-shadow: 0px 1px 3px 1px rgba(0, 0, 0, 0.15);\n",
              "      filter: drop-shadow(0px 1px 2px rgba(0, 0, 0, 0.3));\n",
              "      fill: #FFFFFF;\n",
              "    }\n",
              "  </style>\n",
              "\n",
              "    <script>\n",
              "      const buttonEl =\n",
              "        document.querySelector('#df-0feaf6f6-ea0d-4119-9c3e-67cc28411ffc button.colab-df-convert');\n",
              "      buttonEl.style.display =\n",
              "        google.colab.kernel.accessAllowed ? 'block' : 'none';\n",
              "\n",
              "      async function convertToInteractive(key) {\n",
              "        const element = document.querySelector('#df-0feaf6f6-ea0d-4119-9c3e-67cc28411ffc');\n",
              "        const dataTable =\n",
              "          await google.colab.kernel.invokeFunction('convertToInteractive',\n",
              "                                                    [key], {});\n",
              "        if (!dataTable) return;\n",
              "\n",
              "        const docLinkHtml = 'Like what you see? Visit the ' +\n",
              "          '<a target=\"_blank\" href=https://colab.research.google.com/notebooks/data_table.ipynb>data table notebook</a>'\n",
              "          + ' to learn more about interactive tables.';\n",
              "        element.innerHTML = '';\n",
              "        dataTable['output_type'] = 'display_data';\n",
              "        await google.colab.output.renderOutput(dataTable, element);\n",
              "        const docLink = document.createElement('div');\n",
              "        docLink.innerHTML = docLinkHtml;\n",
              "        element.appendChild(docLink);\n",
              "      }\n",
              "    </script>\n",
              "  </div>\n",
              "\n",
              "\n",
              "<div id=\"df-4bff2af4-7cac-4b21-b468-b074ee23e879\">\n",
              "  <button class=\"colab-df-quickchart\" onclick=\"quickchart('df-4bff2af4-7cac-4b21-b468-b074ee23e879')\"\n",
              "            title=\"Suggest charts\"\n",
              "            style=\"display:none;\">\n",
              "\n",
              "<svg xmlns=\"http://www.w3.org/2000/svg\" height=\"24px\"viewBox=\"0 0 24 24\"\n",
              "     width=\"24px\">\n",
              "    <g>\n",
              "        <path d=\"M19 3H5c-1.1 0-2 .9-2 2v14c0 1.1.9 2 2 2h14c1.1 0 2-.9 2-2V5c0-1.1-.9-2-2-2zM9 17H7v-7h2v7zm4 0h-2V7h2v10zm4 0h-2v-4h2v4z\"/>\n",
              "    </g>\n",
              "</svg>\n",
              "  </button>\n",
              "\n",
              "<style>\n",
              "  .colab-df-quickchart {\n",
              "      --bg-color: #E8F0FE;\n",
              "      --fill-color: #1967D2;\n",
              "      --hover-bg-color: #E2EBFA;\n",
              "      --hover-fill-color: #174EA6;\n",
              "      --disabled-fill-color: #AAA;\n",
              "      --disabled-bg-color: #DDD;\n",
              "  }\n",
              "\n",
              "  [theme=dark] .colab-df-quickchart {\n",
              "      --bg-color: #3B4455;\n",
              "      --fill-color: #D2E3FC;\n",
              "      --hover-bg-color: #434B5C;\n",
              "      --hover-fill-color: #FFFFFF;\n",
              "      --disabled-bg-color: #3B4455;\n",
              "      --disabled-fill-color: #666;\n",
              "  }\n",
              "\n",
              "  .colab-df-quickchart {\n",
              "    background-color: var(--bg-color);\n",
              "    border: none;\n",
              "    border-radius: 50%;\n",
              "    cursor: pointer;\n",
              "    display: none;\n",
              "    fill: var(--fill-color);\n",
              "    height: 32px;\n",
              "    padding: 0;\n",
              "    width: 32px;\n",
              "  }\n",
              "\n",
              "  .colab-df-quickchart:hover {\n",
              "    background-color: var(--hover-bg-color);\n",
              "    box-shadow: 0 1px 2px rgba(60, 64, 67, 0.3), 0 1px 3px 1px rgba(60, 64, 67, 0.15);\n",
              "    fill: var(--button-hover-fill-color);\n",
              "  }\n",
              "\n",
              "  .colab-df-quickchart-complete:disabled,\n",
              "  .colab-df-quickchart-complete:disabled:hover {\n",
              "    background-color: var(--disabled-bg-color);\n",
              "    fill: var(--disabled-fill-color);\n",
              "    box-shadow: none;\n",
              "  }\n",
              "\n",
              "  .colab-df-spinner {\n",
              "    border: 2px solid var(--fill-color);\n",
              "    border-color: transparent;\n",
              "    border-bottom-color: var(--fill-color);\n",
              "    animation:\n",
              "      spin 1s steps(1) infinite;\n",
              "  }\n",
              "\n",
              "  @keyframes spin {\n",
              "    0% {\n",
              "      border-color: transparent;\n",
              "      border-bottom-color: var(--fill-color);\n",
              "      border-left-color: var(--fill-color);\n",
              "    }\n",
              "    20% {\n",
              "      border-color: transparent;\n",
              "      border-left-color: var(--fill-color);\n",
              "      border-top-color: var(--fill-color);\n",
              "    }\n",
              "    30% {\n",
              "      border-color: transparent;\n",
              "      border-left-color: var(--fill-color);\n",
              "      border-top-color: var(--fill-color);\n",
              "      border-right-color: var(--fill-color);\n",
              "    }\n",
              "    40% {\n",
              "      border-color: transparent;\n",
              "      border-right-color: var(--fill-color);\n",
              "      border-top-color: var(--fill-color);\n",
              "    }\n",
              "    60% {\n",
              "      border-color: transparent;\n",
              "      border-right-color: var(--fill-color);\n",
              "    }\n",
              "    80% {\n",
              "      border-color: transparent;\n",
              "      border-right-color: var(--fill-color);\n",
              "      border-bottom-color: var(--fill-color);\n",
              "    }\n",
              "    90% {\n",
              "      border-color: transparent;\n",
              "      border-bottom-color: var(--fill-color);\n",
              "    }\n",
              "  }\n",
              "</style>\n",
              "\n",
              "  <script>\n",
              "    async function quickchart(key) {\n",
              "      const quickchartButtonEl =\n",
              "        document.querySelector('#' + key + ' button');\n",
              "      quickchartButtonEl.disabled = true;  // To prevent multiple clicks.\n",
              "      quickchartButtonEl.classList.add('colab-df-spinner');\n",
              "      try {\n",
              "        const charts = await google.colab.kernel.invokeFunction(\n",
              "            'suggestCharts', [key], {});\n",
              "      } catch (error) {\n",
              "        console.error('Error during call to suggestCharts:', error);\n",
              "      }\n",
              "      quickchartButtonEl.classList.remove('colab-df-spinner');\n",
              "      quickchartButtonEl.classList.add('colab-df-quickchart-complete');\n",
              "    }\n",
              "    (() => {\n",
              "      let quickchartButtonEl =\n",
              "        document.querySelector('#df-4bff2af4-7cac-4b21-b468-b074ee23e879 button');\n",
              "      quickchartButtonEl.style.display =\n",
              "        google.colab.kernel.accessAllowed ? 'block' : 'none';\n",
              "    })();\n",
              "  </script>\n",
              "</div>\n",
              "\n",
              "  <div id=\"id_df28d2db-01f3-4406-b760-f9a4a55a3ce0\">\n",
              "    <style>\n",
              "      .colab-df-generate {\n",
              "        background-color: #E8F0FE;\n",
              "        border: none;\n",
              "        border-radius: 50%;\n",
              "        cursor: pointer;\n",
              "        display: none;\n",
              "        fill: #1967D2;\n",
              "        height: 32px;\n",
              "        padding: 0 0 0 0;\n",
              "        width: 32px;\n",
              "      }\n",
              "\n",
              "      .colab-df-generate:hover {\n",
              "        background-color: #E2EBFA;\n",
              "        box-shadow: 0px 1px 2px rgba(60, 64, 67, 0.3), 0px 1px 3px 1px rgba(60, 64, 67, 0.15);\n",
              "        fill: #174EA6;\n",
              "      }\n",
              "\n",
              "      [theme=dark] .colab-df-generate {\n",
              "        background-color: #3B4455;\n",
              "        fill: #D2E3FC;\n",
              "      }\n",
              "\n",
              "      [theme=dark] .colab-df-generate:hover {\n",
              "        background-color: #434B5C;\n",
              "        box-shadow: 0px 1px 3px 1px rgba(0, 0, 0, 0.15);\n",
              "        filter: drop-shadow(0px 1px 2px rgba(0, 0, 0, 0.3));\n",
              "        fill: #FFFFFF;\n",
              "      }\n",
              "    </style>\n",
              "    <button class=\"colab-df-generate\" onclick=\"generateWithVariable('df')\"\n",
              "            title=\"Generate code using this dataframe.\"\n",
              "            style=\"display:none;\">\n",
              "\n",
              "  <svg xmlns=\"http://www.w3.org/2000/svg\" height=\"24px\"viewBox=\"0 0 24 24\"\n",
              "       width=\"24px\">\n",
              "    <path d=\"M7,19H8.4L18.45,9,17,7.55,7,17.6ZM5,21V16.75L18.45,3.32a2,2,0,0,1,2.83,0l1.4,1.43a1.91,1.91,0,0,1,.58,1.4,1.91,1.91,0,0,1-.58,1.4L9.25,21ZM18.45,9,17,7.55Zm-12,3A5.31,5.31,0,0,0,4.9,8.1,5.31,5.31,0,0,0,1,6.5,5.31,5.31,0,0,0,4.9,4.9,5.31,5.31,0,0,0,6.5,1,5.31,5.31,0,0,0,8.1,4.9,5.31,5.31,0,0,0,12,6.5,5.46,5.46,0,0,0,6.5,12Z\"/>\n",
              "  </svg>\n",
              "    </button>\n",
              "    <script>\n",
              "      (() => {\n",
              "      const buttonEl =\n",
              "        document.querySelector('#id_df28d2db-01f3-4406-b760-f9a4a55a3ce0 button.colab-df-generate');\n",
              "      buttonEl.style.display =\n",
              "        google.colab.kernel.accessAllowed ? 'block' : 'none';\n",
              "\n",
              "      buttonEl.onclick = () => {\n",
              "        google.colab.notebook.generateWithVariable('df');\n",
              "      }\n",
              "      })();\n",
              "    </script>\n",
              "  </div>\n",
              "\n",
              "    </div>\n",
              "  </div>\n"
            ],
            "application/vnd.google.colaboratory.intrinsic+json": {
              "type": "dataframe",
              "variable_name": "df",
              "summary": "{\n  \"name\": \"df\",\n  \"rows\": 172,\n  \"fields\": [\n    {\n      \"column\": \"Data as of\",\n      \"properties\": {\n        \"dtype\": \"object\",\n        \"num_unique_values\": 1,\n        \"samples\": [\n          \"06/28/2023\"\n        ],\n        \"semantic_type\": \"\",\n        \"description\": \"\"\n      }\n    },\n    {\n      \"column\": \"Start Date\",\n      \"properties\": {\n        \"dtype\": \"object\",\n        \"num_unique_values\": 1,\n        \"samples\": [\n          \"01/01/2020\"\n        ],\n        \"semantic_type\": \"\",\n        \"description\": \"\"\n      }\n    },\n    {\n      \"column\": \"End Date\",\n      \"properties\": {\n        \"dtype\": \"object\",\n        \"num_unique_values\": 1,\n        \"samples\": [\n          \"06/24/2023\"\n        ],\n        \"semantic_type\": \"\",\n        \"description\": \"\"\n      }\n    },\n    {\n      \"column\": \"Sex\",\n      \"properties\": {\n        \"dtype\": \"category\",\n        \"num_unique_values\": 2,\n        \"samples\": [\n          \"Male\"\n        ],\n        \"semantic_type\": \"\",\n        \"description\": \"\"\n      }\n    },\n    {\n      \"column\": \"Total deaths\",\n      \"properties\": {\n        \"dtype\": \"number\",\n        \"std\": 52075,\n        \"min\": 663,\n        \"max\": 153611,\n        \"num_unique_values\": 171,\n        \"samples\": [\n          26130\n        ],\n        \"semantic_type\": \"\",\n        \"description\": \"\"\n      }\n    },\n    {\n      \"column\": \"COVID-19 Deaths\",\n      \"properties\": {\n        \"dtype\": \"number\",\n        \"std\": 5732,\n        \"min\": 14,\n        \"max\": 17619,\n        \"num_unique_values\": 162,\n        \"samples\": [\n          13769\n        ],\n        \"semantic_type\": \"\",\n        \"description\": \"\"\n      }\n    },\n    {\n      \"column\": \"age_years\",\n      \"properties\": {\n        \"dtype\": \"number\",\n        \"std\": 24,\n        \"min\": 0,\n        \"max\": 84,\n        \"num_unique_values\": 85,\n        \"samples\": [\n          78\n        ],\n        \"semantic_type\": \"\",\n        \"description\": \"\"\n      }\n    }\n  ]\n}"
            }
          },
          "metadata": {},
          "execution_count": 77
        }
      ]
    },
    {
      "cell_type": "markdown",
      "source": [
        "Above we see the result of the dataframe after completely remodeling the age_years column. The convert_age_to_years function works as follows: if we see the string 'months' in the row, then set it equal to 0 as an int, else we return the first number in the string, which gets converted to an int. The result of this function combines the rows with months into 0 years, and all rows only have an int in the column."
      ],
      "metadata": {
        "id": "LMaYTDawU7bZ"
      }
    },
    {
      "cell_type": "markdown",
      "source": [
        "# **3. Exploratory Data Analysis**\n",
        "\n",
        "##We begin our exploration aiming to answer the question:\n",
        "\n",
        "- Which Gender Has Experienced More Deaths As A Result Of Covid-19 ?\n",
        "\n",
        "We have attempted to answer each question through statistical methods, and provide a cohesive visualization to help a reader understand our results. We will also include a step by step walkthrough of each cell to explain the process of statistical analysis."
      ],
      "metadata": {
        "id": "Nuxbo8sWWveh"
      }
    },
    {
      "cell_type": "code",
      "source": [
        "df.columns = ['data_as_of', 'start_date', 'end_date', 'sex', 'total_deaths', 'covid_19_deaths', 'age_years']\n",
        "\n",
        "grouped_data = df.groupby('sex')[['covid_19_deaths', 'total_deaths']].sum().reset_index()"
      ],
      "metadata": {
        "id": "VYgimRRC7BVc"
      },
      "execution_count": 78,
      "outputs": []
    },
    {
      "cell_type": "markdown",
      "source": [
        "In the cell above, we group the rows by the 'sex' column, to get all rows in terms of male and female genders. We then take the sum of the covid_19_deaths column and the total_deaths for each gender.\n",
        "\n",
        "Note: the reset_index function call serves to reset all the indices starting from 0."
      ],
      "metadata": {
        "id": "r813txiBe69-"
      }
    },
    {
      "cell_type": "code",
      "source": [
        "covid_deaths_male = grouped_data[grouped_data['sex'] == 'Male']['covid_19_deaths'].values[0]\n",
        "covid_deaths_female = grouped_data[grouped_data['sex'] == 'Female']['covid_19_deaths'].values[0]\n",
        "total_deaths_male = grouped_data[grouped_data['sex'] == 'Male']['total_deaths'].values[0]\n",
        "total_deaths_female = grouped_data[grouped_data['sex'] == 'Female']['total_deaths'].values[0]"
      ],
      "metadata": {
        "id": "hF252js4ev6q"
      },
      "execution_count": 79,
      "outputs": []
    },
    {
      "cell_type": "markdown",
      "source": [
        "Here we are storing the total deaths and covid deaths for each gender in separate variables so we can use them in the proportions test in the next cell."
      ],
      "metadata": {
        "id": "VXXDTZeagUif"
      }
    },
    {
      "cell_type": "code",
      "source": [
        "z_stat, p_value = proportions_ztest([covid_deaths_male, covid_deaths_female], [total_deaths_male, total_deaths_female])\n",
        "\n",
        "z_stat, p_value"
      ],
      "metadata": {
        "colab": {
          "base_uri": "https://localhost:8080/"
        },
        "id": "FzkUuYdYeyiO",
        "outputId": "9d75c085-614d-430a-d6dc-c7ce40879f98"
      },
      "execution_count": 80,
      "outputs": [
        {
          "output_type": "execute_result",
          "data": {
            "text/plain": [
              "(22.076725709910853, 5.29056146428082e-108)"
            ]
          },
          "metadata": {},
          "execution_count": 80
        }
      ]
    },
    {
      "cell_type": "markdown",
      "source": [
        "Based on the outputted values for the z-score and p-value, we can reasonably conclude that there is a statistical significant difference in the total deaths experienced by Males vs Females. We can make this conclusion because given a p-value of less than .05, we can reject our null hypothesis, which was that there was no significant difference in the proportion of Covid-19 deaths between Males and Females.\n",
        "\n",
        "\n",
        "Now that we know there is a difference present, lets create a visualization so we can dive deeper."
      ],
      "metadata": {
        "id": "EeTPlIVZTYXd"
      }
    },
    {
      "cell_type": "code",
      "source": [
        "total_gender_deaths = df.groupby('sex')['covid_19_deaths'].sum().reset_index()"
      ],
      "metadata": {
        "id": "TIvIywTT0Smx"
      },
      "execution_count": 81,
      "outputs": []
    },
    {
      "cell_type": "markdown",
      "source": [
        "Now, we group by gender and sum the rows again so we can get total Covid-19 deaths for each gender."
      ],
      "metadata": {
        "id": "7zoiICP7PxVq"
      }
    },
    {
      "cell_type": "code",
      "source": [
        "plt.bar(total_gender_deaths['sex'], total_gender_deaths['covid_19_deaths'])\n",
        "plt.xlabel('Gender')\n",
        "plt.ylabel('Total COVID-19 Deaths')\n",
        "plt.title('Total COVID-19 Deaths by Gender')\n",
        "plt.show()"
      ],
      "metadata": {
        "colab": {
          "base_uri": "https://localhost:8080/",
          "height": 472
        },
        "id": "sHKmsr8yPct8",
        "outputId": "b268af7c-d6d5-4121-f0af-87afd966c7cb"
      },
      "execution_count": 82,
      "outputs": [
        {
          "output_type": "display_data",
          "data": {
            "text/plain": [
              "<Figure size 640x480 with 1 Axes>"
            ],
            "image/png": "[encoded data removed]"
          },
          "metadata": {}
        }
      ]
    },
    {
      "cell_type": "markdown",
      "source": [
        "Based on our statistical analysis, we were able to come to the conclusion that there is a significant statistical difference in the proportion of Covid-19 deaths between Males and Females, however this conclusion was too general and did not fully answer the question we posed at the beginning. From the bar graph given above, we can clearly see that the Male gender has a much higher proportion of deaths from Covid-19. Through the visualization we can also see how much higher the number of deaths is, with the Male gender having almost 150,000 more deaths."
      ],
      "metadata": {
        "id": "bKnD630GheAX"
      }
    },
    {
      "cell_type": "markdown",
      "source": [
        "##The next question we want to answer is:\n",
        "\n",
        "- How Can Age Play A Factor In The Death Rates Of Covid-19 ?"
      ],
      "metadata": {
        "id": "uZR5zoDx0TCZ"
      }
    },
    {
      "cell_type": "code",
      "source": [
        "df_pivot = df.pivot_table(index='age_years', columns='sex', values='covid_19_deaths', aggfunc='sum')\n",
        "df_pivot"
      ],
      "metadata": {
        "id": "W1fN7GyE0cCo",
        "colab": {
          "base_uri": "https://localhost:8080/",
          "height": 450
        },
        "outputId": "0ca05e2d-c3f4-4a3b-aeb6-85d8f521100e"
      },
      "execution_count": 83,
      "outputs": [
        {
          "output_type": "execute_result",
          "data": {
            "text/plain": [
              "sex        Female   Male\n",
              "age_years               \n",
              "0             229    273\n",
              "1              55     73\n",
              "2              26     29\n",
              "3              18     30\n",
              "4              29     14\n",
              "...           ...    ...\n",
              "80          13046  16872\n",
              "81          13151  16273\n",
              "82          13608  16193\n",
              "83          13769  16274\n",
              "84          13944  15661\n",
              "\n",
              "[85 rows x 2 columns]"
            ],
            "text/html": [
              "\n",
              "  <div id=\"df-3de45a76-837e-45c3-aa8c-12a946ad6b30\" class=\"colab-df-container\">\n",
              "    <div>\n",
              "<style scoped>\n",
              "    .dataframe tbody tr th:only-of-type {\n",
              "        vertical-align: middle;\n",
              "    }\n",
              "\n",
              "    .dataframe tbody tr th {\n",
              "        vertical-align: top;\n",
              "    }\n",
              "\n",
              "    .dataframe thead th {\n",
              "        text-align: right;\n",
              "    }\n",
              "</style>\n",
              "<table border=\"1\" class=\"dataframe\">\n",
              "  <thead>\n",
              "    <tr style=\"text-align: right;\">\n",
              "      <th>sex</th>\n",
              "      <th>Female</th>\n",
              "      <th>Male</th>\n",
              "    </tr>\n",
              "    <tr>\n",
              "      <th>age_years</th>\n",
              "      <th></th>\n",
              "      <th></th>\n",
              "    </tr>\n",
              "  </thead>\n",
              "  <tbody>\n",
              "    <tr>\n",
              "      <th>0</th>\n",
              "      <td>229</td>\n",
              "      <td>273</td>\n",
              "    </tr>\n",
              "    <tr>\n",
              "      <th>1</th>\n",
              "      <td>55</td>\n",
              "      <td>73</td>\n",
              "    </tr>\n",
              "    <tr>\n",
              "      <th>2</th>\n",
              "      <td>26</td>\n",
              "      <td>29</td>\n",
              "    </tr>\n",
              "    <tr>\n",
              "      <th>3</th>\n",
              "      <td>18</td>\n",
              "      <td>30</td>\n",
              "    </tr>\n",
              "    <tr>\n",
              "      <th>4</th>\n",
              "      <td>29</td>\n",
              "      <td>14</td>\n",
              "    </tr>\n",
              "    <tr>\n",
              "      <th>...</th>\n",
              "      <td>...</td>\n",
              "      <td>...</td>\n",
              "    </tr>\n",
              "    <tr>\n",
              "      <th>80</th>\n",
              "      <td>13046</td>\n",
              "      <td>16872</td>\n",
              "    </tr>\n",
              "    <tr>\n",
              "      <th>81</th>\n",
              "      <td>13151</td>\n",
              "      <td>16273</td>\n",
              "    </tr>\n",
              "    <tr>\n",
              "      <th>82</th>\n",
              "      <td>13608</td>\n",
              "      <td>16193</td>\n",
              "    </tr>\n",
              "    <tr>\n",
              "      <th>83</th>\n",
              "      <td>13769</td>\n",
              "      <td>16274</td>\n",
              "    </tr>\n",
              "    <tr>\n",
              "      <th>84</th>\n",
              "      <td>13944</td>\n",
              "      <td>15661</td>\n",
              "    </tr>\n",
              "  </tbody>\n",
              "</table>\n",
              "<p>85 rows × 2 columns</p>\n",
              "</div>\n",
              "    <div class=\"colab-df-buttons\">\n",
              "\n",
              "  <div class=\"colab-df-container\">\n",
              "    <button class=\"colab-df-convert\" onclick=\"convertToInteractive('df-3de45a76-837e-45c3-aa8c-12a946ad6b30')\"\n",
              "            title=\"Convert this dataframe to an interactive table.\"\n",
              "            style=\"display:none;\">\n",
              "\n",
              "  <svg xmlns=\"http://www.w3.org/2000/svg\" height=\"24px\" viewBox=\"0 -960 960 960\">\n",
              "    <path d=\"M120-120v-720h720v720H120Zm60-500h600v-160H180v160Zm220 220h160v-160H400v160Zm0 220h160v-160H400v160ZM180-400h160v-160H180v160Zm440 0h160v-160H620v160ZM180-180h160v-160H180v160Zm440 0h160v-160H620v160Z\"/>\n",
              "  </svg>\n",
              "    </button>\n",
              "\n",
              "  <style>\n",
              "    .colab-df-container {\n",
              "      display:flex;\n",
              "      gap: 12px;\n",
              "    }\n",
              "\n",
              "    .colab-df-convert {\n",
              "      background-color: #E8F0FE;\n",
              "      border: none;\n",
              "      border-radius: 50%;\n",
              "      cursor: pointer;\n",
              "      display: none;\n",
              "      fill: #1967D2;\n",
              "      height: 32px;\n",
              "      padding: 0 0 0 0;\n",
              "      width: 32px;\n",
              "    }\n",
              "\n",
              "    .colab-df-convert:hover {\n",
              "      background-color: #E2EBFA;\n",
              "      box-shadow: 0px 1px 2px rgba(60, 64, 67, 0.3), 0px 1px 3px 1px rgba(60, 64, 67, 0.15);\n",
              "      fill: #174EA6;\n",
              "    }\n",
              "\n",
              "    .colab-df-buttons div {\n",
              "      margin-bottom: 4px;\n",
              "    }\n",
              "\n",
              "    [theme=dark] .colab-df-convert {\n",
              "      background-color: #3B4455;\n",
              "      fill: #D2E3FC;\n",
              "    }\n",
              "\n",
              "    [theme=dark] .colab-df-convert:hover {\n",
              "      background-color: #434B5C;\n",
              "      box-shadow: 0px 1px 3px 1px rgba(0, 0, 0, 0.15);\n",
              "      filter: drop-shadow(0px 1px 2px rgba(0, 0, 0, 0.3));\n",
              "      fill: #FFFFFF;\n",
              "    }\n",
              "  </style>\n",
              "\n",
              "    <script>\n",
              "      const buttonEl =\n",
              "        document.querySelector('#df-3de45a76-837e-45c3-aa8c-12a946ad6b30 button.colab-df-convert');\n",
              "      buttonEl.style.display =\n",
              "        google.colab.kernel.accessAllowed ? 'block' : 'none';\n",
              "\n",
              "      async function convertToInteractive(key) {\n",
              "        const element = document.querySelector('#df-3de45a76-837e-45c3-aa8c-12a946ad6b30');\n",
              "        const dataTable =\n",
              "          await google.colab.kernel.invokeFunction('convertToInteractive',\n",
              "                                                    [key], {});\n",
              "        if (!dataTable) return;\n",
              "\n",
              "        const docLinkHtml = 'Like what you see? Visit the ' +\n",
              "          '<a target=\"_blank\" href=https://colab.research.google.com/notebooks/data_table.ipynb>data table notebook</a>'\n",
              "          + ' to learn more about interactive tables.';\n",
              "        element.innerHTML = '';\n",
              "        dataTable['output_type'] = 'display_data';\n",
              "        await google.colab.output.renderOutput(dataTable, element);\n",
              "        const docLink = document.createElement('div');\n",
              "        docLink.innerHTML = docLinkHtml;\n",
              "        element.appendChild(docLink);\n",
              "      }\n",
              "    </script>\n",
              "  </div>\n",
              "\n",
              "\n",
              "<div id=\"df-10237c5d-28e1-489f-9c5c-5f6383824b33\">\n",
              "  <button class=\"colab-df-quickchart\" onclick=\"quickchart('df-10237c5d-28e1-489f-9c5c-5f6383824b33')\"\n",
              "            title=\"Suggest charts\"\n",
              "            style=\"display:none;\">\n",
              "\n",
              "<svg xmlns=\"http://www.w3.org/2000/svg\" height=\"24px\"viewBox=\"0 0 24 24\"\n",
              "     width=\"24px\">\n",
              "    <g>\n",
              "        <path d=\"M19 3H5c-1.1 0-2 .9-2 2v14c0 1.1.9 2 2 2h14c1.1 0 2-.9 2-2V5c0-1.1-.9-2-2-2zM9 17H7v-7h2v7zm4 0h-2V7h2v10zm4 0h-2v-4h2v4z\"/>\n",
              "    </g>\n",
              "</svg>\n",
              "  </button>\n",
              "\n",
              "<style>\n",
              "  .colab-df-quickchart {\n",
              "      --bg-color: #E8F0FE;\n",
              "      --fill-color: #1967D2;\n",
              "      --hover-bg-color: #E2EBFA;\n",
              "      --hover-fill-color: #174EA6;\n",
              "      --disabled-fill-color: #AAA;\n",
              "      --disabled-bg-color: #DDD;\n",
              "  }\n",
              "\n",
              "  [theme=dark] .colab-df-quickchart {\n",
              "      --bg-color: #3B4455;\n",
              "      --fill-color: #D2E3FC;\n",
              "      --hover-bg-color: #434B5C;\n",
              "      --hover-fill-color: #FFFFFF;\n",
              "      --disabled-bg-color: #3B4455;\n",
              "      --disabled-fill-color: #666;\n",
              "  }\n",
              "\n",
              "  .colab-df-quickchart {\n",
              "    background-color: var(--bg-color);\n",
              "    border: none;\n",
              "    border-radius: 50%;\n",
              "    cursor: pointer;\n",
              "    display: none;\n",
              "    fill: var(--fill-color);\n",
              "    height: 32px;\n",
              "    padding: 0;\n",
              "    width: 32px;\n",
              "  }\n",
              "\n",
              "  .colab-df-quickchart:hover {\n",
              "    background-color: var(--hover-bg-color);\n",
              "    box-shadow: 0 1px 2px rgba(60, 64, 67, 0.3), 0 1px 3px 1px rgba(60, 64, 67, 0.15);\n",
              "    fill: var(--button-hover-fill-color);\n",
              "  }\n",
              "\n",
              "  .colab-df-quickchart-complete:disabled,\n",
              "  .colab-df-quickchart-complete:disabled:hover {\n",
              "    background-color: var(--disabled-bg-color);\n",
              "    fill: var(--disabled-fill-color);\n",
              "    box-shadow: none;\n",
              "  }\n",
              "\n",
              "  .colab-df-spinner {\n",
              "    border: 2px solid var(--fill-color);\n",
              "    border-color: transparent;\n",
              "    border-bottom-color: var(--fill-color);\n",
              "    animation:\n",
              "      spin 1s steps(1) infinite;\n",
              "  }\n",
              "\n",
              "  @keyframes spin {\n",
              "    0% {\n",
              "      border-color: transparent;\n",
              "      border-bottom-color: var(--fill-color);\n",
              "      border-left-color: var(--fill-color);\n",
              "    }\n",
              "    20% {\n",
              "      border-color: transparent;\n",
              "      border-left-color: var(--fill-color);\n",
              "      border-top-color: var(--fill-color);\n",
              "    }\n",
              "    30% {\n",
              "      border-color: transparent;\n",
              "      border-left-color: var(--fill-color);\n",
              "      border-top-color: var(--fill-color);\n",
              "      border-right-color: var(--fill-color);\n",
              "    }\n",
              "    40% {\n",
              "      border-color: transparent;\n",
              "      border-right-color: var(--fill-color);\n",
              "      border-top-color: var(--fill-color);\n",
              "    }\n",
              "    60% {\n",
              "      border-color: transparent;\n",
              "      border-right-color: var(--fill-color);\n",
              "    }\n",
              "    80% {\n",
              "      border-color: transparent;\n",
              "      border-right-color: var(--fill-color);\n",
              "      border-bottom-color: var(--fill-color);\n",
              "    }\n",
              "    90% {\n",
              "      border-color: transparent;\n",
              "      border-bottom-color: var(--fill-color);\n",
              "    }\n",
              "  }\n",
              "</style>\n",
              "\n",
              "  <script>\n",
              "    async function quickchart(key) {\n",
              "      const quickchartButtonEl =\n",
              "        document.querySelector('#' + key + ' button');\n",
              "      quickchartButtonEl.disabled = true;  // To prevent multiple clicks.\n",
              "      quickchartButtonEl.classList.add('colab-df-spinner');\n",
              "      try {\n",
              "        const charts = await google.colab.kernel.invokeFunction(\n",
              "            'suggestCharts', [key], {});\n",
              "      } catch (error) {\n",
              "        console.error('Error during call to suggestCharts:', error);\n",
              "      }\n",
              "      quickchartButtonEl.classList.remove('colab-df-spinner');\n",
              "      quickchartButtonEl.classList.add('colab-df-quickchart-complete');\n",
              "    }\n",
              "    (() => {\n",
              "      let quickchartButtonEl =\n",
              "        document.querySelector('#df-10237c5d-28e1-489f-9c5c-5f6383824b33 button');\n",
              "      quickchartButtonEl.style.display =\n",
              "        google.colab.kernel.accessAllowed ? 'block' : 'none';\n",
              "    })();\n",
              "  </script>\n",
              "</div>\n",
              "\n",
              "  <div id=\"id_6cf4215c-dc60-47be-b416-97bce766c45b\">\n",
              "    <style>\n",
              "      .colab-df-generate {\n",
              "        background-color: #E8F0FE;\n",
              "        border: none;\n",
              "        border-radius: 50%;\n",
              "        cursor: pointer;\n",
              "        display: none;\n",
              "        fill: #1967D2;\n",
              "        height: 32px;\n",
              "        padding: 0 0 0 0;\n",
              "        width: 32px;\n",
              "      }\n",
              "\n",
              "      .colab-df-generate:hover {\n",
              "        background-color: #E2EBFA;\n",
              "        box-shadow: 0px 1px 2px rgba(60, 64, 67, 0.3), 0px 1px 3px 1px rgba(60, 64, 67, 0.15);\n",
              "        fill: #174EA6;\n",
              "      }\n",
              "\n",
              "      [theme=dark] .colab-df-generate {\n",
              "        background-color: #3B4455;\n",
              "        fill: #D2E3FC;\n",
              "      }\n",
              "\n",
              "      [theme=dark] .colab-df-generate:hover {\n",
              "        background-color: #434B5C;\n",
              "        box-shadow: 0px 1px 3px 1px rgba(0, 0, 0, 0.15);\n",
              "        filter: drop-shadow(0px 1px 2px rgba(0, 0, 0, 0.3));\n",
              "        fill: #FFFFFF;\n",
              "      }\n",
              "    </style>\n",
              "    <button class=\"colab-df-generate\" onclick=\"generateWithVariable('df_pivot')\"\n",
              "            title=\"Generate code using this dataframe.\"\n",
              "            style=\"display:none;\">\n",
              "\n",
              "  <svg xmlns=\"http://www.w3.org/2000/svg\" height=\"24px\"viewBox=\"0 0 24 24\"\n",
              "       width=\"24px\">\n",
              "    <path d=\"M7,19H8.4L18.45,9,17,7.55,7,17.6ZM5,21V16.75L18.45,3.32a2,2,0,0,1,2.83,0l1.4,1.43a1.91,1.91,0,0,1,.58,1.4,1.91,1.91,0,0,1-.58,1.4L9.25,21ZM18.45,9,17,7.55Zm-12,3A5.31,5.31,0,0,0,4.9,8.1,5.31,5.31,0,0,0,1,6.5,5.31,5.31,0,0,0,4.9,4.9,5.31,5.31,0,0,0,6.5,1,5.31,5.31,0,0,0,8.1,4.9,5.31,5.31,0,0,0,12,6.5,5.46,5.46,0,0,0,6.5,12Z\"/>\n",
              "  </svg>\n",
              "    </button>\n",
              "    <script>\n",
              "      (() => {\n",
              "      const buttonEl =\n",
              "        document.querySelector('#id_6cf4215c-dc60-47be-b416-97bce766c45b button.colab-df-generate');\n",
              "      buttonEl.style.display =\n",
              "        google.colab.kernel.accessAllowed ? 'block' : 'none';\n",
              "\n",
              "      buttonEl.onclick = () => {\n",
              "        google.colab.notebook.generateWithVariable('df_pivot');\n",
              "      }\n",
              "      })();\n",
              "    </script>\n",
              "  </div>\n",
              "\n",
              "    </div>\n",
              "  </div>\n"
            ],
            "application/vnd.google.colaboratory.intrinsic+json": {
              "type": "dataframe",
              "variable_name": "df_pivot",
              "summary": "{\n  \"name\": \"df_pivot\",\n  \"rows\": 85,\n  \"fields\": [\n    {\n      \"column\": \"age_years\",\n      \"properties\": {\n        \"dtype\": \"number\",\n        \"std\": 24,\n        \"min\": 0,\n        \"max\": 84,\n        \"num_unique_values\": 85,\n        \"samples\": [\n          78,\n          0,\n          68\n        ],\n        \"semantic_type\": \"\",\n        \"description\": \"\"\n      }\n    },\n    {\n      \"column\": \"Female\",\n      \"properties\": {\n        \"dtype\": \"number\",\n        \"std\": 4801,\n        \"min\": 17,\n        \"max\": 13944,\n        \"num_unique_values\": 83,\n        \"samples\": [\n          634,\n          229,\n          214\n        ],\n        \"semantic_type\": \"\",\n        \"description\": \"\"\n      }\n    },\n    {\n      \"column\": \"Male\",\n      \"properties\": {\n        \"dtype\": \"number\",\n        \"std\": 6460,\n        \"min\": 14,\n        \"max\": 17619,\n        \"num_unique_values\": 82,\n        \"samples\": [\n          1052,\n          273,\n          365\n        ],\n        \"semantic_type\": \"\",\n        \"description\": \"\"\n      }\n    }\n  ]\n}"
            }
          },
          "metadata": {},
          "execution_count": 83
        }
      ]
    },
    {
      "cell_type": "markdown",
      "source": [
        "This cell above creates a pivot table summarizing the data. We grouped the rows by age_years (as the index) and gender (as the columns), and calculates the total sum of covid_19_deaths for each group. The resulting table shows the breakdown of deaths by age group and sex."
      ],
      "metadata": {
        "id": "6DhaaVswll1T"
      }
    },
    {
      "cell_type": "code",
      "source": [
        "row_to_move = df_pivot.iloc[7]\n",
        "df_pivot = df_pivot.drop(df_pivot.index[7])\n",
        "\n",
        "df_pivot = pd.concat([df_pivot.iloc[:1], pd.DataFrame([row_to_move]), df_pivot.iloc[1:]])\n",
        "df_pivot = df_pivot.iloc[:-2]\n",
        "df_pivot['Total COVID Deaths'] = df_pivot['Female'] + df_pivot['Male']"
      ],
      "metadata": {
        "id": "4epWALAej_wk"
      },
      "execution_count": 84,
      "outputs": []
    },
    {
      "cell_type": "markdown",
      "source": [
        "Here we are extracting specific rows from the pivot table and reinserting them at different indexes to preserve the data. We then create a new column called 'Total COVID Deaths' that contains the sum of covid deaths for each row between genders."
      ],
      "metadata": {
        "id": "3Aj_UsSkleot"
      }
    },
    {
      "cell_type": "code",
      "source": [
        "df_pivot = df_pivot.iloc[2:]\n",
        "df_pivot.index = df_pivot.index.astype(str).str.replace(' Years', '').str.replace(' Year', '').astype(int)\n",
        "total_deaths = df_pivot['Total COVID Deaths']\n",
        "\n",
        "correlation, p_value = stats.pearsonr(df_pivot.index, total_deaths)\n",
        "\n",
        "print(f\"Pearson correlation coefficient: {correlation}\")"
      ],
      "metadata": {
        "id": "a4nYgDFOi_xI",
        "colab": {
          "base_uri": "https://localhost:8080/"
        },
        "outputId": "fe628bea-b027-4e72-b391-39f0b200549a"
      },
      "execution_count": 85,
      "outputs": [
        {
          "output_type": "stream",
          "name": "stdout",
          "text": [
            "Pearson correlation coefficient: 0.91534701547618\n"
          ]
        }
      ]
    },
    {
      "cell_type": "markdown",
      "source": [
        "Here we extract the indexes and total deaths value from the pivot table to be used for the Pearson Correlation analysis. We performed the Pearson correlation test, which yielded a coefficient of .92. This value provides us with multiple pieces of information regarding the correlation between Age and Covid-19 deaths. A positive value for the correlation coefficient tells us that both features increase and decrease together. In simple terms, this tells us that as Age increases, the number of Covid deaths also increase, and vice versa. The value being close to 1 also tells us that the correlation is very strong, meaning that there is an almost linear relationship between the two metrics."
      ],
      "metadata": {
        "id": "1SuC-dzMqA2F"
      }
    },
    {
      "cell_type": "code",
      "source": [
        "plt.bar(df_pivot.index, df_pivot['Total COVID Deaths'])\n",
        "\n",
        "plt.xlabel('Age')\n",
        "plt.ylabel('Total Deaths')\n",
        "plt.title('Total Deaths by COVID-19 by Age')\n",
        "plt.xticks([])\n",
        "\n",
        "plt.show()"
      ],
      "metadata": {
        "colab": {
          "base_uri": "https://localhost:8080/",
          "height": 448
        },
        "id": "9J7KW2CPkMph",
        "outputId": "00c4f0ee-8d9e-458d-a50d-2901b7007b84"
      },
      "execution_count": 86,
      "outputs": [
        {
          "output_type": "display_data",
          "data": {
            "text/plain": [
              "<Figure size 640x480 with 1 Axes>"
            ],
            "image/png": "[encoded data removed]"
          },
          "metadata": {}
        }
      ]
    },
    {
      "cell_type": "markdown",
      "source": [
        "Using the pivot table created above,  we create a bar graph to display the trend we see in Covid-19 deaths as age increases.\n",
        "\n",
        "As we can see from the graph, there is a clear trend when age increases, the total Covid-19 deaths also increase, with the exception of anything under the age of 1. Based on our statistical analysis and visualization, we can reasonably conclude that Age, does in fact, play a factor in the number of Covid-19 deaths. As age increases the likelihood of dying from Covid-19 may increase, yielding higher death counts."
      ],
      "metadata": {
        "id": "31e0cFocomTt"
      }
    },
    {
      "cell_type": "markdown",
      "source": [
        "##The next question we pose:\n",
        "\n",
        "- How Prominent Is The Difference In The Likelihood Of Dying From Covid-19 For Students In College ?"
      ],
      "metadata": {
        "id": "XAIEx0rn0cbP"
      }
    },
    {
      "cell_type": "code",
      "source": [
        "age_21 = df[df['age_years'] == 21]['covid_19_deaths']\n",
        "age_20 = df[df['age_years'] == 20]['covid_19_deaths']\n",
        "age_19 = df[df['age_years'] == 19]['covid_19_deaths']\n",
        "age_18 = df[df['age_years'] == 18]['covid_19_deaths']"
      ],
      "metadata": {
        "id": "hGJgHxCh0mq-"
      },
      "execution_count": 87,
      "outputs": []
    },
    {
      "cell_type": "markdown",
      "source": [
        "Here we are filtering the data for the age groups 18-21 to create a visualization to represent the differences in the total deaths of each age group."
      ],
      "metadata": {
        "id": "-EU80OKzt3wM"
      }
    },
    {
      "cell_type": "code",
      "source": [
        "plt.figure(figsize=(6, 4))\n",
        "plt.bar(['18 Years', '19 Years', '20 Years', '21 Years'], [age_18.sum(), age_19.sum(), age_20.sum(), age_21.sum()], color=['blue', 'green'])\n",
        "\n",
        "plt.title('COVID-19 Deaths for Ages 18-21')\n",
        "plt.xlabel('Age Group')\n",
        "plt.ylabel('COVID-19 Deaths')\n",
        "\n",
        "plt.show()"
      ],
      "metadata": {
        "colab": {
          "base_uri": "https://localhost:8080/",
          "height": 410
        },
        "id": "Qg8AyYVKtzV4",
        "outputId": "eb87365a-c0ff-4867-e325-3e960a98435e"
      },
      "execution_count": 88,
      "outputs": [
        {
          "output_type": "display_data",
          "data": {
            "text/plain": [
              "<Figure size 600x400 with 1 Axes>"
            ],
            "image/png": "[encoded data removed]"
          },
          "metadata": {}
        }
      ]
    },
    {
      "cell_type": "markdown",
      "source": [
        "As we see from the graph above, there seems to be a trend in the Covid-19 deaths for students in college. The older the student, the more death counts. At first glance, the graph could show that older college students have more reason to worry about the possibilty of death from Covid-19, however let's perform a statistical analysis to verify this conclusion."
      ],
      "metadata": {
        "id": "Y04VYp4zVlnJ"
      }
    },
    {
      "cell_type": "code",
      "source": [
        "age_group_18 = df[df['age_years'] == 18]['covid_19_deaths']\n",
        "age_group_19 = df[df['age_years'] == 19]['covid_19_deaths']\n",
        "age_group_20 = df[df['age_years'] == 20]['covid_19_deaths']\n",
        "age_group_21 = df[df['age_years'] == 21]['covid_19_deaths']\n",
        "age_group_22 = df[df['age_years'] == 22]['covid_19_deaths']"
      ],
      "metadata": {
        "id": "m9Aku1GKVo4x"
      },
      "execution_count": 89,
      "outputs": []
    },
    {
      "cell_type": "markdown",
      "source": [
        "Here we separate the Covid-19 deaths by age groups to perform a oneway anova test on all the groups to see if there is a significant difference between the age groups in Covid-19 Death."
      ],
      "metadata": {
        "id": "4rW9n37Fuytw"
      }
    },
    {
      "cell_type": "code",
      "source": [
        "anova_result = f_oneway(age_group_18, age_group_19, age_group_20, age_group_21, age_group_22)"
      ],
      "metadata": {
        "id": "U1IcarDMusG4"
      },
      "execution_count": 90,
      "outputs": []
    },
    {
      "cell_type": "markdown",
      "source": [
        "Then we perform the anova test."
      ],
      "metadata": {
        "id": "4jgi5DPOvJIg"
      }
    },
    {
      "cell_type": "code",
      "source": [
        "print(f\"ANOVA F-statistic: {anova_result.statistic}\")\n",
        "print(f\"P-value: {anova_result.pvalue}\")"
      ],
      "metadata": {
        "colab": {
          "base_uri": "https://localhost:8080/"
        },
        "id": "_EdLPNIWuuyj",
        "outputId": "f96f8b26-37d5-439b-a43e-b84729bc6713"
      },
      "execution_count": 91,
      "outputs": [
        {
          "output_type": "stream",
          "name": "stdout",
          "text": [
            "ANOVA F-statistic: 2.6882166382044406\n",
            "P-value: 0.1536147911334868\n"
          ]
        }
      ]
    },
    {
      "cell_type": "markdown",
      "source": [
        "Lastly, we print our results and make our conclusions."
      ],
      "metadata": {
        "id": "ftjK109gvM2T"
      }
    },
    {
      "cell_type": "markdown",
      "source": [
        "Since our p-value is more than .05, we can reasonably conclude that there is no statistical significant difference in the Covid-19 Deaths between the given age groups. This means that for students of college age, there is no real difference in the likeihood of death due to Covid-19. The result of the F-statistic from the Anova test tells us that the small difference between the group counts likely is a result of random variation, and is not actually a means for concern. This statistical analysis provides more context as to why we see differences in the death counts from different ages in college and why it is not a means of concern."
      ],
      "metadata": {
        "id": "fA5oCorBvYCb"
      }
    },
    {
      "cell_type": "markdown",
      "source": [
        "#**4. Primary Analysis And Visualizations**\n",
        "\n",
        "In this section, we will be creating and implementing machine learning algorithms to help answer or verify conclusions made from our Exploratory Data Analysis. We start by creating a regression model to help verify the conclusion we came to for our quesion of:\n",
        "\n",
        "- How Can Age Play A Factor In The Death Rates Of Covid-19 ?"
      ],
      "metadata": {
        "id": "98y_owG7sVXt"
      }
    },
    {
      "cell_type": "code",
      "source": [
        "x = df_pivot.index.astype(float)\n",
        "y = df_pivot['Total COVID Deaths']"
      ],
      "metadata": {
        "id": "OR5vYGKXsno_"
      },
      "execution_count": 92,
      "outputs": []
    },
    {
      "cell_type": "markdown",
      "source": [
        "First, we must prepare the data for regression. We store the age values in the x variable, and total deaths in the y variable. Total deaths would be our target feature in this case."
      ],
      "metadata": {
        "id": "wBROrxEqnOTx"
      }
    },
    {
      "cell_type": "code",
      "source": [
        "degree = 5\n",
        "coefficients = np.polyfit(x, y, degree)\n",
        "polynomial = np.poly1d(coefficients)"
      ],
      "metadata": {
        "id": "lFF1vIbWnElN"
      },
      "execution_count": 93,
      "outputs": []
    },
    {
      "cell_type": "markdown",
      "source": [
        "Then, we fit a polynomial regression curve of the fifth degree to the data in the graph."
      ],
      "metadata": {
        "id": "3JORM8HInaU1"
      }
    },
    {
      "cell_type": "code",
      "source": [
        "x_fit = np.linspace(min(x), max(x), 100)\n",
        "y_fit = polynomial(x_fit)"
      ],
      "metadata": {
        "id": "QjpRfcPFnIaw"
      },
      "execution_count": 94,
      "outputs": []
    },
    {
      "cell_type": "markdown",
      "source": [
        "Now we generate y values for the fitted line and smooth x-values for curve."
      ],
      "metadata": {
        "id": "jGQpstSuoD1h"
      }
    },
    {
      "cell_type": "code",
      "source": [
        "plt.figure(figsize=(10, 6))\n",
        "plt.bar(x, y, color='purple', alpha=0.6, label='Actual Deaths')\n",
        "plt.plot(x_fit, y_fit, color='red', linewidth=2, label=f'Polynomial Fit (Degree {degree})')\n",
        "\n",
        "plt.xlabel('Age')\n",
        "plt.ylabel('Total Deaths')\n",
        "plt.title('Total COVID-19 Deaths by Age with Fitted Curve')\n",
        "plt.legend()\n",
        "\n",
        "plt.show()"
      ],
      "metadata": {
        "colab": {
          "base_uri": "https://localhost:8080/",
          "height": 564
        },
        "id": "w-fYpGslnKBV",
        "outputId": "66c707be-fd36-4ff0-e4ed-7cd79864aa5b"
      },
      "execution_count": 95,
      "outputs": [
        {
          "output_type": "display_data",
          "data": {
            "text/plain": [
              "<Figure size 1000x600 with 1 Axes>"
            ],
            "image/png": "[encoded data removed]"
          },
          "metadata": {}
        }
      ]
    },
    {
      "cell_type": "markdown",
      "source": [
        "After plotting our original bar graph, along with the polynomial regression model, we can see that the line follows the trend of the graph very well. This tells us that our regression model for measuring how much age plays a factor in Covid-19 deaths is fairly accurate and should be useful for testing given a random age."
      ],
      "metadata": {
        "id": "DAG0xinjo3kK"
      }
    },
    {
      "cell_type": "markdown",
      "source": [
        "## The next question we want to answer is:\n",
        "\n",
        "- Given The Amount Of Total Deaths In The United States, How Can We Predict The Number Of Deaths From Covid-19 ?"
      ],
      "metadata": {
        "id": "mafpMJNNS_bZ"
      }
    },
    {
      "cell_type": "code",
      "source": [
        "X = df[['total_deaths']]\n",
        "y = df['covid_19_deaths']"
      ],
      "metadata": {
        "id": "r7vygLYbTF3D"
      },
      "execution_count": 96,
      "outputs": []
    },
    {
      "cell_type": "markdown",
      "source": [
        "First we store out input and target features in the x and y variables. For this scenario, the input feature is total deaths, and our target feature or predictor is covid-19 deaths."
      ],
      "metadata": {
        "id": "2cnMZ_9GTNUK"
      }
    },
    {
      "cell_type": "code",
      "source": [
        "X_train, X_test, y_train, y_test = train_test_split(X, y, test_size=0.2, random_state=42)"
      ],
      "metadata": {
        "id": "6ATHJIY6TI8q"
      },
      "execution_count": 97,
      "outputs": []
    },
    {
      "cell_type": "markdown",
      "source": [
        "Then, we split the dataset into a training and test set, 80% training data and 20% test data."
      ],
      "metadata": {
        "id": "E7eZZ51RTcRk"
      }
    },
    {
      "cell_type": "code",
      "source": [
        "model = RandomForestRegressor(random_state=42)\n",
        "model.fit(X_train, y_train)\n",
        "\n",
        "y_pred = model.predict(X_test)"
      ],
      "metadata": {
        "id": "vhNT_jhwTkOx"
      },
      "execution_count": 98,
      "outputs": []
    },
    {
      "cell_type": "markdown",
      "source": [
        "Next, we train our Random Forest model and make predictions on our test set."
      ],
      "metadata": {
        "id": "ifVXHfMSTkqI"
      }
    },
    {
      "cell_type": "code",
      "source": [
        "print(\"Mean Squared Error:\", mean_squared_error(y_test, y_pred))\n",
        "print(\"R^2 Score:\", r2_score(y_test, y_pred))"
      ],
      "metadata": {
        "colab": {
          "base_uri": "https://localhost:8080/"
        },
        "id": "NMcqB5hLTLOG",
        "outputId": "8bcdb934-231d-4e6e-c79e-79166af91072"
      },
      "execution_count": 99,
      "outputs": [
        {
          "output_type": "stream",
          "name": "stdout",
          "text": [
            "Mean Squared Error: 609805.4445514288\n",
            "R^2 Score: 0.9785773226775552\n"
          ]
        }
      ]
    },
    {
      "cell_type": "markdown",
      "source": [
        "After that, we evalute the model using mean squared error and R^2 values."
      ],
      "metadata": {
        "id": "Fo5LZTWfTzVy"
      }
    },
    {
      "cell_type": "code",
      "source": [
        "import matplotlib.pyplot as plt\n",
        "\n",
        "plt.figure(figsize=(8, 6))\n",
        "plt.scatter(y_test, y_pred, alpha=0.7)\n",
        "plt.plot([y_test.min(), y_test.max()], [y_test.min(), y_test.max()], 'r--')\n",
        "plt.xlabel('Actual COVID Deaths')\n",
        "plt.ylabel('Predicted COVID Deaths')\n",
        "plt.title('Actual vs Predicted COVID Deaths')\n",
        "plt.show()"
      ],
      "metadata": {
        "colab": {
          "base_uri": "https://localhost:8080/",
          "height": 564
        },
        "id": "7_0ywzYKSg9g",
        "outputId": "9013398b-c458-4c76-9e43-48a7cbbd0847"
      },
      "execution_count": 100,
      "outputs": [
        {
          "output_type": "display_data",
          "data": {
            "text/plain": [
              "<Figure size 800x600 with 1 Axes>"
            ],
            "image/png": "[encoded data removed]"
          },
          "metadata": {}
        }
      ]
    },
    {
      "cell_type": "markdown",
      "source": [
        "Lastly, we create a visualization with our predicted values and a line of best fit to see how accurate our model's predictions were. As we can see from the visualization, our line of best fit is well-fitted to test set and there is little deviation. We can further this conclusion by noticing that the R^2 value is extremely close to 1 (.98). This tells us that 98% of the variance in the test set is explained by the model, which is spectacular. This model and conclusion showcase a practical data science application with tangible benefits. The CDC has developed something similar that has helped them understand the growth rate and patterns of Covid-19 deaths so they can be better prepared to deal with global healthcare situations in the future."
      ],
      "metadata": {
        "id": "crJZS5cWT6tH"
      }
    },
    {
      "cell_type": "markdown",
      "source": [
        "## The following Logistic Regression model was developed to verify the results of the question:\n",
        "\n",
        "- Which Gender Has Experienced More Deaths As A Result Of Covid-19 ?"
      ],
      "metadata": {
        "id": "kzNo2HH2rCrA"
      }
    },
    {
      "cell_type": "code",
      "source": [
        "file_path = '/content/Provisional_COVID-19_Death_Counts_by_Age_in_Years__2020-2023.csv'\n",
        "df = pd.read_csv(file_path)"
      ],
      "metadata": {
        "id": "E8tXz5l_XbsV"
      },
      "execution_count": 101,
      "outputs": []
    },
    {
      "cell_type": "markdown",
      "source": [
        "Here, we reload our original dataset because we want to avoid conflict with the previous processing completed on the data."
      ],
      "metadata": {
        "id": "lr9_s0pZrvva"
      }
    },
    {
      "cell_type": "code",
      "source": [
        "df = df[df['Age Years'] != \"85 Years and over\"]\n",
        "\n",
        "def convert_age_to_years(age_str):\n",
        "    if 'months' in age_str.lower():\n",
        "        return 0\n",
        "    elif 'year' in age_str.lower():\n",
        "        return int(age_str.split()[0])\n",
        "    else:\n",
        "        return None\n",
        "\n",
        "df['age_years'] = df['Age Years'].apply(convert_age_to_years)\n",
        "\n",
        "df = df.drop(columns=['Age Years', 'Data as of', 'Start Date', 'End Date']).dropna().reset_index(drop=True)"
      ],
      "metadata": {
        "id": "BwyQGguYrqs7"
      },
      "execution_count": 102,
      "outputs": []
    },
    {
      "cell_type": "markdown",
      "source": [
        "Now, we repeat our data cleaning steps to get our dataset back to it's primed state."
      ],
      "metadata": {
        "id": "Nqb_sE-Mr3x3"
      }
    },
    {
      "cell_type": "code",
      "source": [
        "df['sex_binary'] = df['Sex'].apply(lambda x: 1 if x == 'Male' else 0)"
      ],
      "metadata": {
        "id": "bLJ_9ghDsG31"
      },
      "execution_count": 103,
      "outputs": []
    },
    {
      "cell_type": "markdown",
      "source": [
        "Next, we create a binary encoding for male and female gender. In our case we choose 1 if male and 0 if female."
      ],
      "metadata": {
        "id": "XvzxMM3BsXZX"
      }
    },
    {
      "cell_type": "code",
      "source": [
        "X = df[['sex_binary', 'age_years']]\n",
        "y = df['COVID-19 Deaths']"
      ],
      "metadata": {
        "id": "yDjFc5PvsJj-"
      },
      "execution_count": 104,
      "outputs": []
    },
    {
      "cell_type": "markdown",
      "source": [
        "Now we store our input and target features into our corresponding variables, similarly to how we did for our polynomial regression model. X contains the binary encoding for gender and the age, Y contains the Covid-19 deaths."
      ],
      "metadata": {
        "id": "yt3oCJvrsfgk"
      }
    },
    {
      "cell_type": "code",
      "source": [
        "X_train, X_test, y_train, y_test = train_test_split(X, y, test_size=0.2, random_state=42)"
      ],
      "metadata": {
        "id": "GyWkN6U-rhoV"
      },
      "execution_count": 105,
      "outputs": []
    },
    {
      "cell_type": "markdown",
      "source": [
        "Now we move into the training and evaluation of the model. First we split the dataset into training and test sets. 80% of the dataset will be the training set and the other 20% will be the test set."
      ],
      "metadata": {
        "id": "9KkjfcjotHfo"
      }
    },
    {
      "cell_type": "code",
      "source": [
        "linear_model = LinearRegression()\n",
        "linear_model.fit(X_train, y_train)"
      ],
      "metadata": {
        "colab": {
          "base_uri": "https://localhost:8080/",
          "height": 80
        },
        "id": "gEQcy5_BtEVy",
        "outputId": "da4926af-b0f5-43d0-d1b3-07a4e0ec1c06"
      },
      "execution_count": 106,
      "outputs": [
        {
          "output_type": "execute_result",
          "data": {
            "text/plain": [
              "LinearRegression()"
            ],
            "text/html": [
              "<style>#sk-container-id-3 {\n",
              "  /* Definition of color scheme common for light and dark mode */\n",
              "  --sklearn-color-text: black;\n",
              "  --sklearn-color-line: gray;\n",
              "  /* Definition of color scheme for unfitted estimators */\n",
              "  --sklearn-color-unfitted-level-0: #fff5e6;\n",
              "  --sklearn-color-unfitted-level-1: #f6e4d2;\n",
              "  --sklearn-color-unfitted-level-2: #ffe0b3;\n",
              "  --sklearn-color-unfitted-level-3: chocolate;\n",
              "  /* Definition of color scheme for fitted estimators */\n",
              "  --sklearn-color-fitted-level-0: #f0f8ff;\n",
              "  --sklearn-color-fitted-level-1: #d4ebff;\n",
              "  --sklearn-color-fitted-level-2: #b3dbfd;\n",
              "  --sklearn-color-fitted-level-3: cornflowerblue;\n",
              "\n",
              "  /* Specific color for light theme */\n",
              "  --sklearn-color-text-on-default-background: var(--sg-text-color, var(--theme-code-foreground, var(--jp-content-font-color1, black)));\n",
              "  --sklearn-color-background: var(--sg-background-color, var(--theme-background, var(--jp-layout-color0, white)));\n",
              "  --sklearn-color-border-box: var(--sg-text-color, var(--theme-code-foreground, var(--jp-content-font-color1, black)));\n",
              "  --sklearn-color-icon: #696969;\n",
              "\n",
              "  @media (prefers-color-scheme: dark) {\n",
              "    /* Redefinition of color scheme for dark theme */\n",
              "    --sklearn-color-text-on-default-background: var(--sg-text-color, var(--theme-code-foreground, var(--jp-content-font-color1, white)));\n",
              "    --sklearn-color-background: var(--sg-background-color, var(--theme-background, var(--jp-layout-color0, #111)));\n",
              "    --sklearn-color-border-box: var(--sg-text-color, var(--theme-code-foreground, var(--jp-content-font-color1, white)));\n",
              "    --sklearn-color-icon: #878787;\n",
              "  }\n",
              "}\n",
              "\n",
              "#sk-container-id-3 {\n",
              "  color: var(--sklearn-color-text);\n",
              "}\n",
              "\n",
              "#sk-container-id-3 pre {\n",
              "  padding: 0;\n",
              "}\n",
              "\n",
              "#sk-container-id-3 input.sk-hidden--visually {\n",
              "  border: 0;\n",
              "  clip: rect(1px 1px 1px 1px);\n",
              "  clip: rect(1px, 1px, 1px, 1px);\n",
              "  height: 1px;\n",
              "  margin: -1px;\n",
              "  overflow: hidden;\n",
              "  padding: 0;\n",
              "  position: absolute;\n",
              "  width: 1px;\n",
              "}\n",
              "\n",
              "#sk-container-id-3 div.sk-dashed-wrapped {\n",
              "  border: 1px dashed var(--sklearn-color-line);\n",
              "  margin: 0 0.4em 0.5em 0.4em;\n",
              "  box-sizing: border-box;\n",
              "  padding-bottom: 0.4em;\n",
              "  background-color: var(--sklearn-color-background);\n",
              "}\n",
              "\n",
              "#sk-container-id-3 div.sk-container {\n",
              "  /* jupyter's `normalize.less` sets `[hidden] { display: none; }`\n",
              "     but bootstrap.min.css set `[hidden] { display: none !important; }`\n",
              "     so we also need the `!important` here to be able to override the\n",
              "     default hidden behavior on the sphinx rendered scikit-learn.org.\n",
              "     See: https://github.com/scikit-learn/scikit-learn/issues/21755 */\n",
              "  display: inline-block !important;\n",
              "  position: relative;\n",
              "}\n",
              "\n",
              "#sk-container-id-3 div.sk-text-repr-fallback {\n",
              "  display: none;\n",
              "}\n",
              "\n",
              "div.sk-parallel-item,\n",
              "div.sk-serial,\n",
              "div.sk-item {\n",
              "  /* draw centered vertical line to link estimators */\n",
              "  background-image: linear-gradient(var(--sklearn-color-text-on-default-background), var(--sklearn-color-text-on-default-background));\n",
              "  background-size: 2px 100%;\n",
              "  background-repeat: no-repeat;\n",
              "  background-position: center center;\n",
              "}\n",
              "\n",
              "/* Parallel-specific style estimator block */\n",
              "\n",
              "#sk-container-id-3 div.sk-parallel-item::after {\n",
              "  content: \"\";\n",
              "  width: 100%;\n",
              "  border-bottom: 2px solid var(--sklearn-color-text-on-default-background);\n",
              "  flex-grow: 1;\n",
              "}\n",
              "\n",
              "#sk-container-id-3 div.sk-parallel {\n",
              "  display: flex;\n",
              "  align-items: stretch;\n",
              "  justify-content: center;\n",
              "  background-color: var(--sklearn-color-background);\n",
              "  position: relative;\n",
              "}\n",
              "\n",
              "#sk-container-id-3 div.sk-parallel-item {\n",
              "  display: flex;\n",
              "  flex-direction: column;\n",
              "}\n",
              "\n",
              "#sk-container-id-3 div.sk-parallel-item:first-child::after {\n",
              "  align-self: flex-end;\n",
              "  width: 50%;\n",
              "}\n",
              "\n",
              "#sk-container-id-3 div.sk-parallel-item:last-child::after {\n",
              "  align-self: flex-start;\n",
              "  width: 50%;\n",
              "}\n",
              "\n",
              "#sk-container-id-3 div.sk-parallel-item:only-child::after {\n",
              "  width: 0;\n",
              "}\n",
              "\n",
              "/* Serial-specific style estimator block */\n",
              "\n",
              "#sk-container-id-3 div.sk-serial {\n",
              "  display: flex;\n",
              "  flex-direction: column;\n",
              "  align-items: center;\n",
              "  background-color: var(--sklearn-color-background);\n",
              "  padding-right: 1em;\n",
              "  padding-left: 1em;\n",
              "}\n",
              "\n",
              "\n",
              "/* Toggleable style: style used for estimator/Pipeline/ColumnTransformer box that is\n",
              "clickable and can be expanded/collapsed.\n",
              "- Pipeline and ColumnTransformer use this feature and define the default style\n",
              "- Estimators will overwrite some part of the style using the `sk-estimator` class\n",
              "*/\n",
              "\n",
              "/* Pipeline and ColumnTransformer style (default) */\n",
              "\n",
              "#sk-container-id-3 div.sk-toggleable {\n",
              "  /* Default theme specific background. It is overwritten whether we have a\n",
              "  specific estimator or a Pipeline/ColumnTransformer */\n",
              "  background-color: var(--sklearn-color-background);\n",
              "}\n",
              "\n",
              "/* Toggleable label */\n",
              "#sk-container-id-3 label.sk-toggleable__label {\n",
              "  cursor: pointer;\n",
              "  display: block;\n",
              "  width: 100%;\n",
              "  margin-bottom: 0;\n",
              "  padding: 0.5em;\n",
              "  box-sizing: border-box;\n",
              "  text-align: center;\n",
              "}\n",
              "\n",
              "#sk-container-id-3 label.sk-toggleable__label-arrow:before {\n",
              "  /* Arrow on the left of the label */\n",
              "  content: \"▸\";\n",
              "  float: left;\n",
              "  margin-right: 0.25em;\n",
              "  color: var(--sklearn-color-icon);\n",
              "}\n",
              "\n",
              "#sk-container-id-3 label.sk-toggleable__label-arrow:hover:before {\n",
              "  color: var(--sklearn-color-text);\n",
              "}\n",
              "\n",
              "/* Toggleable content - dropdown */\n",
              "\n",
              "#sk-container-id-3 div.sk-toggleable__content {\n",
              "  max-height: 0;\n",
              "  max-width: 0;\n",
              "  overflow: hidden;\n",
              "  text-align: left;\n",
              "  /* unfitted */\n",
              "  background-color: var(--sklearn-color-unfitted-level-0);\n",
              "}\n",
              "\n",
              "#sk-container-id-3 div.sk-toggleable__content.fitted {\n",
              "  /* fitted */\n",
              "  background-color: var(--sklearn-color-fitted-level-0);\n",
              "}\n",
              "\n",
              "#sk-container-id-3 div.sk-toggleable__content pre {\n",
              "  margin: 0.2em;\n",
              "  border-radius: 0.25em;\n",
              "  color: var(--sklearn-color-text);\n",
              "  /* unfitted */\n",
              "  background-color: var(--sklearn-color-unfitted-level-0);\n",
              "}\n",
              "\n",
              "#sk-container-id-3 div.sk-toggleable__content.fitted pre {\n",
              "  /* unfitted */\n",
              "  background-color: var(--sklearn-color-fitted-level-0);\n",
              "}\n",
              "\n",
              "#sk-container-id-3 input.sk-toggleable__control:checked~div.sk-toggleable__content {\n",
              "  /* Expand drop-down */\n",
              "  max-height: 200px;\n",
              "  max-width: 100%;\n",
              "  overflow: auto;\n",
              "}\n",
              "\n",
              "#sk-container-id-3 input.sk-toggleable__control:checked~label.sk-toggleable__label-arrow:before {\n",
              "  content: \"▾\";\n",
              "}\n",
              "\n",
              "/* Pipeline/ColumnTransformer-specific style */\n",
              "\n",
              "#sk-container-id-3 div.sk-label input.sk-toggleable__control:checked~label.sk-toggleable__label {\n",
              "  color: var(--sklearn-color-text);\n",
              "  background-color: var(--sklearn-color-unfitted-level-2);\n",
              "}\n",
              "\n",
              "#sk-container-id-3 div.sk-label.fitted input.sk-toggleable__control:checked~label.sk-toggleable__label {\n",
              "  background-color: var(--sklearn-color-fitted-level-2);\n",
              "}\n",
              "\n",
              "/* Estimator-specific style */\n",
              "\n",
              "/* Colorize estimator box */\n",
              "#sk-container-id-3 div.sk-estimator input.sk-toggleable__control:checked~label.sk-toggleable__label {\n",
              "  /* unfitted */\n",
              "  background-color: var(--sklearn-color-unfitted-level-2);\n",
              "}\n",
              "\n",
              "#sk-container-id-3 div.sk-estimator.fitted input.sk-toggleable__control:checked~label.sk-toggleable__label {\n",
              "  /* fitted */\n",
              "  background-color: var(--sklearn-color-fitted-level-2);\n",
              "}\n",
              "\n",
              "#sk-container-id-3 div.sk-label label.sk-toggleable__label,\n",
              "#sk-container-id-3 div.sk-label label {\n",
              "  /* The background is the default theme color */\n",
              "  color: var(--sklearn-color-text-on-default-background);\n",
              "}\n",
              "\n",
              "/* On hover, darken the color of the background */\n",
              "#sk-container-id-3 div.sk-label:hover label.sk-toggleable__label {\n",
              "  color: var(--sklearn-color-text);\n",
              "  background-color: var(--sklearn-color-unfitted-level-2);\n",
              "}\n",
              "\n",
              "/* Label box, darken color on hover, fitted */\n",
              "#sk-container-id-3 div.sk-label.fitted:hover label.sk-toggleable__label.fitted {\n",
              "  color: var(--sklearn-color-text);\n",
              "  background-color: var(--sklearn-color-fitted-level-2);\n",
              "}\n",
              "\n",
              "/* Estimator label */\n",
              "\n",
              "#sk-container-id-3 div.sk-label label {\n",
              "  font-family: monospace;\n",
              "  font-weight: bold;\n",
              "  display: inline-block;\n",
              "  line-height: 1.2em;\n",
              "}\n",
              "\n",
              "#sk-container-id-3 div.sk-label-container {\n",
              "  text-align: center;\n",
              "}\n",
              "\n",
              "/* Estimator-specific */\n",
              "#sk-container-id-3 div.sk-estimator {\n",
              "  font-family: monospace;\n",
              "  border: 1px dotted var(--sklearn-color-border-box);\n",
              "  border-radius: 0.25em;\n",
              "  box-sizing: border-box;\n",
              "  margin-bottom: 0.5em;\n",
              "  /* unfitted */\n",
              "  background-color: var(--sklearn-color-unfitted-level-0);\n",
              "}\n",
              "\n",
              "#sk-container-id-3 div.sk-estimator.fitted {\n",
              "  /* fitted */\n",
              "  background-color: var(--sklearn-color-fitted-level-0);\n",
              "}\n",
              "\n",
              "/* on hover */\n",
              "#sk-container-id-3 div.sk-estimator:hover {\n",
              "  /* unfitted */\n",
              "  background-color: var(--sklearn-color-unfitted-level-2);\n",
              "}\n",
              "\n",
              "#sk-container-id-3 div.sk-estimator.fitted:hover {\n",
              "  /* fitted */\n",
              "  background-color: var(--sklearn-color-fitted-level-2);\n",
              "}\n",
              "\n",
              "/* Specification for estimator info (e.g. \"i\" and \"?\") */\n",
              "\n",
              "/* Common style for \"i\" and \"?\" */\n",
              "\n",
              ".sk-estimator-doc-link,\n",
              "a:link.sk-estimator-doc-link,\n",
              "a:visited.sk-estimator-doc-link {\n",
              "  float: right;\n",
              "  font-size: smaller;\n",
              "  line-height: 1em;\n",
              "  font-family: monospace;\n",
              "  background-color: var(--sklearn-color-background);\n",
              "  border-radius: 1em;\n",
              "  height: 1em;\n",
              "  width: 1em;\n",
              "  text-decoration: none !important;\n",
              "  margin-left: 1ex;\n",
              "  /* unfitted */\n",
              "  border: var(--sklearn-color-unfitted-level-1) 1pt solid;\n",
              "  color: var(--sklearn-color-unfitted-level-1);\n",
              "}\n",
              "\n",
              ".sk-estimator-doc-link.fitted,\n",
              "a:link.sk-estimator-doc-link.fitted,\n",
              "a:visited.sk-estimator-doc-link.fitted {\n",
              "  /* fitted */\n",
              "  border: var(--sklearn-color-fitted-level-1) 1pt solid;\n",
              "  color: var(--sklearn-color-fitted-level-1);\n",
              "}\n",
              "\n",
              "/* On hover */\n",
              "div.sk-estimator:hover .sk-estimator-doc-link:hover,\n",
              ".sk-estimator-doc-link:hover,\n",
              "div.sk-label-container:hover .sk-estimator-doc-link:hover,\n",
              ".sk-estimator-doc-link:hover {\n",
              "  /* unfitted */\n",
              "  background-color: var(--sklearn-color-unfitted-level-3);\n",
              "  color: var(--sklearn-color-background);\n",
              "  text-decoration: none;\n",
              "}\n",
              "\n",
              "div.sk-estimator.fitted:hover .sk-estimator-doc-link.fitted:hover,\n",
              ".sk-estimator-doc-link.fitted:hover,\n",
              "div.sk-label-container:hover .sk-estimator-doc-link.fitted:hover,\n",
              ".sk-estimator-doc-link.fitted:hover {\n",
              "  /* fitted */\n",
              "  background-color: var(--sklearn-color-fitted-level-3);\n",
              "  color: var(--sklearn-color-background);\n",
              "  text-decoration: none;\n",
              "}\n",
              "\n",
              "/* Span, style for the box shown on hovering the info icon */\n",
              ".sk-estimator-doc-link span {\n",
              "  display: none;\n",
              "  z-index: 9999;\n",
              "  position: relative;\n",
              "  font-weight: normal;\n",
              "  right: .2ex;\n",
              "  padding: .5ex;\n",
              "  margin: .5ex;\n",
              "  width: min-content;\n",
              "  min-width: 20ex;\n",
              "  max-width: 50ex;\n",
              "  color: var(--sklearn-color-text);\n",
              "  box-shadow: 2pt 2pt 4pt #999;\n",
              "  /* unfitted */\n",
              "  background: var(--sklearn-color-unfitted-level-0);\n",
              "  border: .5pt solid var(--sklearn-color-unfitted-level-3);\n",
              "}\n",
              "\n",
              ".sk-estimator-doc-link.fitted span {\n",
              "  /* fitted */\n",
              "  background: var(--sklearn-color-fitted-level-0);\n",
              "  border: var(--sklearn-color-fitted-level-3);\n",
              "}\n",
              "\n",
              ".sk-estimator-doc-link:hover span {\n",
              "  display: block;\n",
              "}\n",
              "\n",
              "/* \"?\"-specific style due to the `<a>` HTML tag */\n",
              "\n",
              "#sk-container-id-3 a.estimator_doc_link {\n",
              "  float: right;\n",
              "  font-size: 1rem;\n",
              "  line-height: 1em;\n",
              "  font-family: monospace;\n",
              "  background-color: var(--sklearn-color-background);\n",
              "  border-radius: 1rem;\n",
              "  height: 1rem;\n",
              "  width: 1rem;\n",
              "  text-decoration: none;\n",
              "  /* unfitted */\n",
              "  color: var(--sklearn-color-unfitted-level-1);\n",
              "  border: var(--sklearn-color-unfitted-level-1) 1pt solid;\n",
              "}\n",
              "\n",
              "#sk-container-id-3 a.estimator_doc_link.fitted {\n",
              "  /* fitted */\n",
              "  border: var(--sklearn-color-fitted-level-1) 1pt solid;\n",
              "  color: var(--sklearn-color-fitted-level-1);\n",
              "}\n",
              "\n",
              "/* On hover */\n",
              "#sk-container-id-3 a.estimator_doc_link:hover {\n",
              "  /* unfitted */\n",
              "  background-color: var(--sklearn-color-unfitted-level-3);\n",
              "  color: var(--sklearn-color-background);\n",
              "  text-decoration: none;\n",
              "}\n",
              "\n",
              "#sk-container-id-3 a.estimator_doc_link.fitted:hover {\n",
              "  /* fitted */\n",
              "  background-color: var(--sklearn-color-fitted-level-3);\n",
              "}\n",
              "</style><div id=\"sk-container-id-3\" class=\"sk-top-container\"><div class=\"sk-text-repr-fallback\"><pre>LinearRegression()</pre><b>In a Jupyter environment, please rerun this cell to show the HTML representation or trust the notebook. <br />On GitHub, the HTML representation is unable to render, please try loading this page with nbviewer.org.</b></div><div class=\"sk-container\" hidden><div class=\"sk-item\"><div class=\"sk-estimator fitted sk-toggleable\"><input class=\"sk-toggleable__control sk-hidden--visually\" id=\"sk-estimator-id-3\" type=\"checkbox\" checked><label for=\"sk-estimator-id-3\" class=\"sk-toggleable__label fitted sk-toggleable__label-arrow fitted\">&nbsp;&nbsp;LinearRegression<a class=\"sk-estimator-doc-link fitted\" rel=\"noreferrer\" target=\"_blank\" href=\"https://scikit-learn.org/1.5/modules/generated/sklearn.linear_model.LinearRegression.html\">?<span>Documentation for LinearRegression</span></a><span class=\"sk-estimator-doc-link fitted\">i<span>Fitted</span></span></label><div class=\"sk-toggleable__content fitted\"><pre>LinearRegression()</pre></div> </div></div></div></div>"
            ]
          },
          "metadata": {},
          "execution_count": 106
        }
      ]
    },
    {
      "cell_type": "markdown",
      "source": [
        "Then, we create and fit the linear regression model."
      ],
      "metadata": {
        "id": "yniVThIntVYk"
      }
    },
    {
      "cell_type": "code",
      "source": [
        "y_pred = linear_model.predict(X_test)"
      ],
      "metadata": {
        "id": "MoSC77QPtFiF"
      },
      "execution_count": 107,
      "outputs": []
    },
    {
      "cell_type": "markdown",
      "source": [
        "Then we make predictions using the model and store them in y_pred."
      ],
      "metadata": {
        "id": "D3iW4PkRtiwn"
      }
    },
    {
      "cell_type": "code",
      "source": [
        "mse = mean_squared_error(y_test, y_pred)\n",
        "r2 = r2_score(y_test, y_pred)\n",
        "\n",
        "gender_coefficient = linear_model.coef_[0]"
      ],
      "metadata": {
        "id": "iCE0_ATYtG0o"
      },
      "execution_count": 108,
      "outputs": []
    },
    {
      "cell_type": "markdown",
      "source": [
        "Now we evaluate the model using mean squared error and the r-squared value."
      ],
      "metadata": {
        "id": "FdH6NCXztpUd"
      }
    },
    {
      "cell_type": "code",
      "source": [
        "print(f\"Coefficients: {linear_model.coef_}\")\n",
        "print(f\"Intercept: {linear_model.intercept_}\")\n",
        "print(f\"Mean Squared Error (MSE): {mse}\")\n",
        "print(f\"R-squared (RÂ²): {r2}\")"
      ],
      "metadata": {
        "colab": {
          "base_uri": "https://localhost:8080/"
        },
        "id": "Ntwb0qxqsSe0",
        "outputId": "2bcefb58-ae2c-4332-8bd1-b240e84ed20c"
      },
      "execution_count": 109,
      "outputs": [
        {
          "output_type": "stream",
          "name": "stdout",
          "text": [
            "Coefficients: [1826.57229588  209.31464555]\n",
            "Intercept: -4823.049613821329\n",
            "Mean Squared Error (MSE): 4381305.065666129\n",
            "R-squared (RÂ²): 0.8460832294765732\n"
          ]
        }
      ]
    },
    {
      "cell_type": "markdown",
      "source": [
        "Based on these statistics, we can come to a number of conclusions. The coefficients tell us that for every unit increase in sex, the target feature (Covid deaths) increases by 1827 and for every unit increase in age, Covid deaths increase by 209. Not only does this verify that being male is strongly correlated with covid deaths, but also being older is strongly correlated with covid deaths, further reaffirming our previous conclusions. The R^2 value being close to 1 tells us that our model explains 85% of the variance in the data, suggesting that the model is a strong fit."
      ],
      "metadata": {
        "id": "1AnTWkRQuOqy"
      }
    },
    {
      "cell_type": "code",
      "source": [
        "average_age = df['age_years'].mean()\n",
        "predicted_deaths_male = linear_model.predict([[1, average_age]])[0]\n",
        "predicted_deaths_female = linear_model.predict([[0, average_age]])[0]\n",
        "\n",
        "plt.figure(figsize=(8, 6))\n",
        "genders = ['Male', 'Female']\n",
        "predicted_deaths = [predicted_deaths_male, predicted_deaths_female]\n",
        "\n",
        "plt.bar(genders, predicted_deaths, color=['blue', 'pink'], alpha=0.7)\n",
        "plt.xlabel(\"Gender\")\n",
        "plt.ylabel(\"Predicted COVID-19 Deaths\")\n",
        "plt.title(\"Predicted COVID-19 Deaths by Gender (Controlling for Age)\")\n",
        "plt.show()"
      ],
      "metadata": {
        "colab": {
          "base_uri": "https://localhost:8080/",
          "height": 632
        },
        "id": "hR8Sv5otsUS_",
        "outputId": "031f6e04-ff9a-4a54-97f5-bad30b12555d"
      },
      "execution_count": 110,
      "outputs": [
        {
          "output_type": "stream",
          "name": "stderr",
          "text": [
            "/usr/local/lib/python3.10/dist-packages/sklearn/base.py:493: UserWarning: X does not have valid feature names, but LinearRegression was fitted with feature names\n",
            "  warnings.warn(\n",
            "/usr/local/lib/python3.10/dist-packages/sklearn/base.py:493: UserWarning: X does not have valid feature names, but LinearRegression was fitted with feature names\n",
            "  warnings.warn(\n"
          ]
        },
        {
          "output_type": "display_data",
          "data": {
            "text/plain": [
              "<Figure size 800x600 with 1 Axes>"
            ],
            "image/png": "[encoded data removed]"
          },
          "metadata": {}
        }
      ]
    },
    {
      "cell_type": "markdown",
      "source": [
        "For our visualization, we calculated the predicted deaths at the mean age to see the difference when holding age constant. As we can see, our visualization confirms our EDA and model analysis, showing that the number of male deaths at the mean age is greater than the female counterpart."
      ],
      "metadata": {
        "id": "zM5ApvvRvqFU"
      }
    },
    {
      "cell_type": "markdown",
      "source": [
        "#**5. Insights And Conclusions**\n",
        "\n",
        "Our observations and modeling shows insight that age and gender do play roles in COVID-19 mortality rates, with older individuals\n",
        "and males showing higher susceptibility. Our different statistical and machine learning analyses verified these trends.\n",
        "\n",
        "Some insights we can take are that these findings emphasize the need for targeted/focused public health interventions to safeguard\n",
        "vulnerable populations during pandemics. If we cannot safeguard these vulnerable populations then it can at minimum bring attention\n",
        "and awareness to these populations.\n",
        "\n",
        "Future work we could involve integrating are additional datasets, such as vaccination coverage, underlying health conditions, and even\n",
        "more data possibly looking into the 2024 COVID data. This will help us explore more factors influencing mortality. This exploration\n",
        "would enable the development of more precise predictive models so there can be health strategies to mitigate future health crises.\n",
        "\n",
        "We hope this tutorial not only provided insights into the driving factors of Covid-19, but also insights into the Data Science Life Cycle.\n",
        "\n",
        "For more information on the Data Science Life Cycle please visit:\n",
        "\n",
        "- https://www.geeksforgeeks.org/data-science-lifecycle/"
      ],
      "metadata": {
        "id": "ygg-Nr_uZG_D"
      }
    }
  ]
}